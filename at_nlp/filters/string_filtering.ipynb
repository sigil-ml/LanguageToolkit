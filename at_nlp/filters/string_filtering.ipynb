{
 "cells": [
  {
   "cell_type": "markdown",
   "id": "a93ba1f7c9754ccf",
   "metadata": {
    "collapsed": false,
    "jupyter": {
     "outputs_hidden": false
    }
   },
   "source": [
    "# Message Filtering"
   ]
  },
  {
   "cell_type": "code",
   "execution_count": null,
   "id": "39ba058594bc022f",
   "metadata": {
    "ExecuteTime": {
     "end_time": "2024-02-26T01:50:14.034703Z",
     "start_time": "2024-02-26T01:50:12.489330Z"
    },
    "collapsed": false,
    "jupyter": {
     "outputs_hidden": false
    }
   },
   "outputs": [],
   "source": [
    "from at_nlp.filters.string_filter import StringFilter\n",
    "from pathlib import Path\n",
    "from functools import partial\n",
    "from snorkel.labeling import labeling_function\n",
    "import pandas as pd\n",
    "import numpy as np\n",
    "from dask.diagnostics import Profiler, ResourceProfiler, CacheProfiler\n",
    "from dask.diagnostics import ProgressBar\n",
    "from dask.diagnostics import visualize\n",
    "from dask.distributed import LocalCluster\n",
    "from dask.distributed import Client"
   ]
  },
  {
   "cell_type": "code",
   "execution_count": null,
   "id": "1d86afaa-a9fd-4195-975e-82f3174f1eca",
   "metadata": {
    "ExecuteTime": {
     "end_time": "2024-02-26T01:50:16.661205Z",
     "start_time": "2024-02-26T01:50:15.342354Z"
    }
   },
   "outputs": [],
   "source": [
    "num_processors = 10\n",
    "cluster = LocalCluster(n_workers=num_processors)          # Fully-featured local Dask cluster\n",
    "client = cluster.get_client()\n",
    "client"
   ]
  },
  {
   "cell_type": "code",
   "execution_count": null,
   "id": "9def7fcfb90ec52a",
   "metadata": {
    "ExecuteTime": {
     "end_time": "2024-02-26T01:50:20.628406Z",
     "start_time": "2024-02-26T01:50:20.619215Z"
    },
    "collapsed": false,
    "jupyter": {
     "outputs_hidden": false
    }
   },
   "outputs": [],
   "source": [
    "%load_ext rich"
   ]
  },
  {
   "cell_type": "code",
   "execution_count": null,
   "id": "cf5c7c057816a573",
   "metadata": {
    "ExecuteTime": {
     "end_time": "2024-02-23T18:57:15.427263513Z",
     "start_time": "2024-02-23T18:57:15.392524658Z"
    },
    "collapsed": false,
    "jupyter": {
     "outputs_hidden": false
    }
   },
   "outputs": [],
   "source": [
    "data_path = Path(\"/home/dwalker/SIGIL/natural_language_processing/nitmre/data/(CUI) alexa_816th_file_1a1.csv\")\n",
    "assert data_path.exists(), f\"Data path {data_path} does not exist\"\n",
    "data = pd.read_csv(data_path)"
   ]
  },
  {
   "cell_type": "code",
   "execution_count": null,
   "id": "27a9b469",
   "metadata": {},
   "outputs": [],
   "source": [
    "sf.register_preprocessor([(0, fn)])\n",
    "sf.register_csv_preprocessor(data_path, idx)\n",
    "sf.register_csv_preprocessor(data_path2, idx)\n",
    "\n",
    "sf.csv_name_data = dict()\n",
    "sf.csv_name_data2 = dict()\n",
    "sf.data.extend(csv_name, csv_name2)"
   ]
  },
  {
   "cell_type": "code",
   "execution_count": null,
   "id": "f508cd453fc48d4a",
   "metadata": {
    "ExecuteTime": {
     "end_time": "2024-02-26T01:50:29.150863Z",
     "start_time": "2024-02-26T01:50:29.143307Z"
    },
    "collapsed": false,
    "jupyter": {
     "outputs_hidden": false
    }
   },
   "outputs": [],
   "source": [
    "sf = StringFilter()\n",
    "sf.reset()"
   ]
  },
  {
   "cell_type": "code",
   "execution_count": null,
   "id": "e9919931",
   "metadata": {
    "ExecuteTime": {
     "end_time": "2024-02-26T01:50:31.060909Z",
     "start_time": "2024-02-26T01:50:31.047877Z"
    }
   },
   "outputs": [],
   "source": [
    "def lower_case(ds: pd.Series, col_idx: int):\n",
    "    _s: str = ds.iat[col_idx]\n",
    "    _s = _s.lower()\n",
    "    ds.iat[col_idx] = _s\n",
    "    return ds\n",
    "\n",
    "def upper_case(ds: pd.Series, col_idx: int):\n",
    "    _s: str = ds.iat[col_idx]\n",
    "    _s = _s.upper()\n",
    "    ds.iat[col_idx] = _s\n",
    "    return ds\n",
    "\n",
    "\n",
    "pre_processors = [\n",
    "    (1, lower_case),\n",
    "    (0, upper_case)\n",
    "]\n",
    "\n",
    "sf.register_preprocessor(pre_processors)"
   ]
  },
  {
   "cell_type": "code",
   "execution_count": null,
   "id": "7b43c0b7",
   "metadata": {
    "ExecuteTime": {
     "end_time": "2024-02-26T01:50:32.201356Z",
     "start_time": "2024-02-26T01:50:32.194589Z"
    }
   },
   "outputs": [],
   "source": [
    "sf.print_preprocessor_stack()"
   ]
  },
  {
   "cell_type": "code",
   "execution_count": null,
   "id": "3ca507f0-498d-4f9c-8db9-3c1cef967b0e",
   "metadata": {},
   "outputs": [],
   "source": [
    "test_csv_path = Path(\"../../tests/test.csv\")"
   ]
  },
  {
   "cell_type": "code",
   "execution_count": null,
   "id": "6844230a-cf67-4b77-b64e-0cb8eeac29d9",
   "metadata": {},
   "outputs": [],
   "source": [
    "sf.register_csv_preprocessor(test_csv_path)\n",
    "sf.print_preprocessor_stack()"
   ]
  },
  {
   "cell_type": "code",
   "execution_count": null,
   "id": "7623a1c6-8bf8-4e69-99fe-05147d730251",
   "metadata": {},
   "outputs": [],
   "source": [
    "test_arr = [[idx, f\"test{idx}\"] for idx in range(10_000)]\n",
    "\n",
    "csv_indices = np.random.randint(low=1, high=1000, size=(200,))\n",
    "\n",
    "for idx in csv_indices:\n",
    "    test_arr[idx] = [idx, \"APL\"]\n",
    "\n",
    "test_df = pd.DataFrame(\n",
    "    test_arr,\n",
    "    columns=[\"id\", \"text\"],\n",
    ")"
   ]
  },
  {
   "cell_type": "code",
   "execution_count": null,
   "id": "94ef4cc9-5548-4c11-ae35-f14c4b7fa1ca",
   "metadata": {},
   "outputs": [],
   "source": [
    "num_divisions = 20"
   ]
  },
  {
   "cell_type": "code",
   "execution_count": null,
   "id": "72f624ab-7798-4de4-b460-cb5865dd0a06",
   "metadata": {
    "scrolled": true
   },
   "outputs": [],
   "source": [
    "sf.preprocess(test_df, 1, True, num_divisions, False).visualize()"
   ]
  },
  {
   "cell_type": "code",
   "execution_count": null,
   "id": "6f2c2e4e-83d8-4631-82e1-deecd0cb392b",
   "metadata": {},
   "outputs": [],
   "source": [
    "out_df = sf.preprocess(test_df, 1, True, num_divisions, False).compute()"
   ]
  },
  {
   "cell_type": "code",
   "execution_count": null,
   "id": "7e2a202a-6ac3-46ab-b8a8-75457952979d",
   "metadata": {},
   "outputs": [],
   "source": [
    "out_df.head(100)"
   ]
  },
  {
   "cell_type": "code",
   "execution_count": null,
   "id": "cef869fb-4642-40bc-bb7b-f93273b87e59",
   "metadata": {},
   "outputs": [],
   "source": [
    "%timeit sf.preprocess(test_df, 1, False, num_divisions, False)"
   ]
  },
  {
   "cell_type": "markdown",
   "id": "44a9accd71ef9b3f",
   "metadata": {
    "collapsed": false,
    "jupyter": {
     "outputs_hidden": false
    }
   },
   "source": [
    "## Train"
   ]
  },
  {
   "cell_type": "code",
   "execution_count": null,
   "id": "96afc5a0dec523b0",
   "metadata": {
    "ExecuteTime": {
     "end_time": "2024-02-16T21:20:08.012450Z",
     "start_time": "2024-02-16T21:19:31.067443100Z"
    },
    "collapsed": false,
    "jupyter": {
     "outputs_hidden": false
    }
   },
   "outputs": [],
   "source": [
    "msg_filter.train(\n",
    "    data, \n",
    "    {\n",
    "        \"stage-one\": {\n",
    "            \"split\": 0.9,\n",
    "            \"amt\": 2000\n",
    "        },\n",
    "        \"stage-two\": {\n",
    "            \"split\": 0.9,\n",
    "            \"amt\": 1700\n",
    "        }\n",
    "    }, \n",
    "    serialize=False\n",
    ")"
   ]
  },
  {
   "cell_type": "code",
   "execution_count": null,
   "id": "ddb4edbd797cb814",
   "metadata": {
    "ExecuteTime": {
     "end_time": "2024-02-16T21:32:43.268660100Z",
     "start_time": "2024-02-16T21:32:43.247058500Z"
    },
    "collapsed": false,
    "jupyter": {
     "outputs_hidden": false
    }
   },
   "outputs": [],
   "source": [
    "row_apply = partial(msg_filter.template_miner_transform, tm=msg_filter.template_miner)"
   ]
  },
  {
   "cell_type": "code",
   "execution_count": null,
   "id": "3c6d41b181bde434",
   "metadata": {
    "ExecuteTime": {
     "end_time": "2024-02-16T21:32:48.463962900Z",
     "start_time": "2024-02-16T21:32:48.390691600Z"
    },
    "collapsed": false,
    "jupyter": {
     "outputs_hidden": false
    }
   },
   "outputs": [],
   "source": [
    "test_set = msg_filter.stage_one_test_data\n",
    "test_labels = test_set[\"labels\"]"
   ]
  },
  {
   "cell_type": "code",
   "execution_count": null,
   "id": "753887d2",
   "metadata": {},
   "outputs": [],
   "source": [
    "msg_filter.latency_trace(test_set)"
   ]
  },
  {
   "cell_type": "markdown",
   "id": "73c2cff315e2ff14",
   "metadata": {
    "collapsed": false,
    "jupyter": {
     "outputs_hidden": false
    }
   },
   "source": [
    "### Test Stage One"
   ]
  },
  {
   "cell_type": "code",
   "execution_count": null,
   "id": "3aeb70a30dff6698",
   "metadata": {
    "ExecuteTime": {
     "end_time": "2024-02-16T21:32:48.918256600Z",
     "start_time": "2024-02-16T21:32:48.869926800Z"
    },
    "collapsed": false,
    "jupyter": {
     "outputs_hidden": false
    }
   },
   "outputs": [],
   "source": [
    "msg_filter.evaluate(test_set, test_labels, \"rf\")\n",
    "msg_filter.evaluate(test_set, test_labels, \"mlp\")"
   ]
  },
  {
   "cell_type": "markdown",
   "id": "353a65ca860e4772",
   "metadata": {
    "collapsed": false,
    "jupyter": {
     "outputs_hidden": false
    }
   },
   "source": [
    "## Label Ensemble"
   ]
  },
  {
   "cell_type": "markdown",
   "id": "84f4664546fe8254",
   "metadata": {
    "collapsed": false,
    "jupyter": {
     "outputs_hidden": false
    }
   },
   "source": [
    "### Data Preparation"
   ]
  },
  {
   "cell_type": "code",
   "execution_count": null,
   "id": "c2310fb6d4da6393",
   "metadata": {
    "ExecuteTime": {
     "end_time": "2024-02-16T21:30:49.902909100Z",
     "start_time": "2024-02-16T21:30:48.157449400Z"
    },
    "collapsed": false,
    "jupyter": {
     "outputs_hidden": false
    }
   },
   "outputs": [],
   "source": [
    "test_set = msg_filter.stage_two_test_data\n",
    "test_labels = test_set[\"labels\"]\n",
    "test_set = msg_filter.applier.apply(test_set)"
   ]
  },
  {
   "cell_type": "markdown",
   "id": "da5b2ce765600435",
   "metadata": {
    "collapsed": false,
    "jupyter": {
     "outputs_hidden": false
    }
   },
   "source": [
    "### Test Ensemble"
   ]
  },
  {
   "cell_type": "code",
   "execution_count": null,
   "id": "bc13c8e0c29ded3",
   "metadata": {
    "ExecuteTime": {
     "end_time": "2024-02-16T21:20:27.214409400Z",
     "start_time": "2024-02-16T21:20:27.130228600Z"
    },
    "collapsed": false,
    "jupyter": {
     "outputs_hidden": false
    }
   },
   "outputs": [],
   "source": [
    "msg_filter.evaluate(test_set, test_labels, \"label_model\")"
   ]
  },
  {
   "cell_type": "code",
   "execution_count": null,
   "id": "4162873105f326a2",
   "metadata": {
    "ExecuteTime": {
     "end_time": "2024-02-16T21:20:30.772624500Z",
     "start_time": "2024-02-16T21:20:30.710850400Z"
    },
    "collapsed": false,
    "jupyter": {
     "outputs_hidden": false
    }
   },
   "outputs": [],
   "source": [
    "ds = data[:5]\n",
    "msg_filter.predict(ds)"
   ]
  },
  {
   "cell_type": "code",
   "execution_count": null,
   "id": "b008a071b0f0fc1e",
   "metadata": {
    "ExecuteTime": {
     "end_time": "2024-02-16T21:33:13.207063700Z",
     "start_time": "2024-02-16T21:33:13.187442800Z"
    },
    "collapsed": false,
    "jupyter": {
     "outputs_hidden": false
    }
   },
   "outputs": [],
   "source": [
    "@labeling_function()\n",
    "def lf_confirmation(in_ds: pd.Series) -> int:\n",
    "    msg = in_ds[\"Message\"]\n",
    "    msg = msg.lower()\n",
    "    if \"wilco\" in msg or \"affirm\" in msg or \"ok\" in msg:\n",
    "        return 2\n",
    "    return 0"
   ]
  },
  {
   "cell_type": "code",
   "execution_count": null,
   "id": "8676b28528be1320",
   "metadata": {
    "ExecuteTime": {
     "end_time": "2024-02-16T21:33:14.001679800Z",
     "start_time": "2024-02-16T21:33:13.981145300Z"
    },
    "collapsed": false,
    "jupyter": {
     "outputs_hidden": false
    }
   },
   "outputs": [],
   "source": [
    "msg_filter.register_new_labeling_fn([lf_confirmation])"
   ]
  },
  {
   "cell_type": "code",
   "execution_count": null,
   "id": "1aa67d05baa915f6",
   "metadata": {
    "ExecuteTime": {
     "end_time": "2024-02-16T21:33:14.826037400Z",
     "start_time": "2024-02-16T21:33:14.808172800Z"
    },
    "collapsed": false,
    "jupyter": {
     "outputs_hidden": false
    }
   },
   "outputs": [],
   "source": [
    "msg_filter.labeling_functions"
   ]
  },
  {
   "cell_type": "code",
   "execution_count": null,
   "id": "0b24dbcc",
   "metadata": {},
   "outputs": [],
   "source": [
    "msg_filter.train(\n",
    "    data, \n",
    "    {\n",
    "        \"stage-one\": {\n",
    "            \"split\": 0.9,\n",
    "            \"amt\": 2000\n",
    "        },\n",
    "        \"stage-two\": {\n",
    "            \"split\": 0.9,\n",
    "            \"amt\": 1700\n",
    "        }\n",
    "    }, \n",
    "    serialize=False\n",
    ")"
   ]
  },
  {
   "cell_type": "code",
   "execution_count": null,
   "id": "4d6f27e1f6c2dc9b",
   "metadata": {
    "ExecuteTime": {
     "end_time": "2024-02-16T21:34:17.741763400Z",
     "start_time": "2024-02-16T21:34:16.632914500Z"
    },
    "collapsed": false,
    "jupyter": {
     "outputs_hidden": false
    }
   },
   "outputs": [],
   "source": [
    "test_set = msg_filter.stage_two_test_data\n",
    "test_labels = test_set[\"labels\"]\n",
    "test_set = msg_filter.applier.apply(test_set)\n",
    "msg_filter.evaluate(test_set, test_labels, \"label_model\")"
   ]
  },
  {
   "cell_type": "code",
   "execution_count": 86,
   "id": "cad6df3f",
   "metadata": {},
   "outputs": [],
   "source": [
    "def test_function(ds: pd.Series, i: int) -> pd.Series:\n",
    "    print(locals()['ds'])"
   ]
  },
  {
   "cell_type": "code",
   "execution_count": 87,
   "id": "4e8cc0ad-eb17-435e-a428-ba310c71885d",
   "metadata": {},
   "outputs": [
    {
     "name": "stdout",
     "output_type": "stream",
     "text": [
      "0    0\n",
      "1    0\n",
      "dtype: int64\n"
     ]
    }
   ],
   "source": [
    "test_function(pd.Series([0, 0,]), 0)"
   ]
  },
  {
   "cell_type": "code",
   "execution_count": 58,
   "id": "3fe1583a-5c7e-477a-9c78-0ee7953192dd",
   "metadata": {},
   "outputs": [],
   "source": [
    "import inspect"
   ]
  },
  {
   "cell_type": "code",
   "execution_count": 73,
   "id": "ace6e8ff-4bea-4bf3-b1fe-36a5f9f1a371",
   "metadata": {},
   "outputs": [
    {
     "data": {
      "text/plain": [
       "['__class__',\n",
       " '__delattr__',\n",
       " '__dir__',\n",
       " '__doc__',\n",
       " '__eq__',\n",
       " '__format__',\n",
       " '__ge__',\n",
       " '__getattribute__',\n",
       " '__gt__',\n",
       " '__hash__',\n",
       " '__init__',\n",
       " '__init_subclass__',\n",
       " '__le__',\n",
       " '__lt__',\n",
       " '__ne__',\n",
       " '__new__',\n",
       " '__reduce__',\n",
       " '__reduce_ex__',\n",
       " '__repr__',\n",
       " '__setattr__',\n",
       " '__sizeof__',\n",
       " '__str__',\n",
       " '__subclasshook__',\n",
       " 'co_argcount',\n",
       " 'co_cellvars',\n",
       " 'co_code',\n",
       " 'co_consts',\n",
       " 'co_filename',\n",
       " 'co_firstlineno',\n",
       " 'co_flags',\n",
       " 'co_freevars',\n",
       " 'co_kwonlyargcount',\n",
       " 'co_lines',\n",
       " 'co_linetable',\n",
       " 'co_lnotab',\n",
       " 'co_name',\n",
       " 'co_names',\n",
       " 'co_nlocals',\n",
       " 'co_posonlyargcount',\n",
       " 'co_stacksize',\n",
       " 'co_varnames',\n",
       " 'replace']"
      ]
     },
     "execution_count": 73,
     "metadata": {},
     "output_type": "execute_result"
    }
   ],
   "source": [
    "dir(test_function.__code__)"
   ]
  },
  {
   "cell_type": "code",
   "execution_count": 62,
   "id": "a37c91ea-771c-4c65-9a17-1e558d39950b",
   "metadata": {},
   "outputs": [
    {
     "data": {
      "text/plain": [
       "Arguments(args=['ds', 'int'], varargs=None, varkw=None)"
      ]
     },
     "execution_count": 62,
     "metadata": {},
     "output_type": "execute_result"
    }
   ],
   "source": [
    "inspect.getargs(test_function.__code__.co_code)"
   ]
  },
  {
   "cell_type": "code",
   "execution_count": 82,
   "id": "6cbac97e-4fdb-4e9b-9fd5-8667f1729bad",
   "metadata": {},
   "outputs": [
    {
     "data": {
      "text/plain": [
       "'\\x12\\x01'"
      ]
     },
     "execution_count": 82,
     "metadata": {},
     "output_type": "execute_result"
    }
   ],
   "source": [
    "test_function.__code__.co_linetable.decode('utf-8')"
   ]
  },
  {
   "cell_type": "code",
   "execution_count": 65,
   "id": "da555d01-9f0c-4f83-8377-09bf3a29efe4",
   "metadata": {},
   "outputs": [
    {
     "data": {
      "text/plain": [
       "'ds'"
      ]
     },
     "execution_count": 65,
     "metadata": {},
     "output_type": "execute_result"
    }
   ],
   "source": [
    "test_function.__code__.co_varnames[0]"
   ]
  },
  {
   "cell_type": "code",
   "execution_count": 66,
   "id": "933beb7d-9501-497b-918e-6ff9f87a832a",
   "metadata": {},
   "outputs": [
    {
     "name": "stdout",
     "output_type": "stream",
     "text": [
      "ds\n",
      "int\n"
     ]
    }
   ],
   "source": [
    "for v in test_function.__code__.co_varnames:\n",
    "    print(v)"
   ]
  },
  {
   "cell_type": "code",
   "execution_count": 69,
   "id": "7f7ea209-7520-4b8b-9f46-80a5e2d67df1",
   "metadata": {},
   "outputs": [
    {
     "ename": "AttributeError",
     "evalue": "'code' object has no attribute 'f_code'",
     "output_type": "error",
     "traceback": [
      "\u001b[0;31m---------------------------------------------------------------------------\u001b[0m",
      "\u001b[0;31mAttributeError\u001b[0m                            Traceback (most recent call last)",
      "Cell \u001b[0;32mIn[69], line 1\u001b[0m\n\u001b[0;32m----> 1\u001b[0m \u001b[43minspect\u001b[49m\u001b[38;5;241;43m.\u001b[39;49m\u001b[43mgetargvalues\u001b[49m\u001b[43m(\u001b[49m\u001b[43mtest_function\u001b[49m\u001b[38;5;241;43m.\u001b[39;49m\u001b[38;5;18;43m__code__\u001b[39;49m\u001b[43m)\u001b[49m\n",
      "File \u001b[0;32m~/miniconda3/envs/topic-model/lib/python3.10/inspect.py:1346\u001b[0m, in \u001b[0;36mgetargvalues\u001b[0;34m(frame)\u001b[0m\n\u001b[1;32m   1339\u001b[0m \u001b[38;5;28;01mdef\u001b[39;00m \u001b[38;5;21mgetargvalues\u001b[39m(frame):\n\u001b[1;32m   1340\u001b[0m \u001b[38;5;250m    \u001b[39m\u001b[38;5;124;03m\"\"\"Get information about arguments passed into a particular frame.\u001b[39;00m\n\u001b[1;32m   1341\u001b[0m \n\u001b[1;32m   1342\u001b[0m \u001b[38;5;124;03m    A tuple of four things is returned: (args, varargs, varkw, locals).\u001b[39;00m\n\u001b[1;32m   1343\u001b[0m \u001b[38;5;124;03m    'args' is a list of the argument names.\u001b[39;00m\n\u001b[1;32m   1344\u001b[0m \u001b[38;5;124;03m    'varargs' and 'varkw' are the names of the * and ** arguments or None.\u001b[39;00m\n\u001b[1;32m   1345\u001b[0m \u001b[38;5;124;03m    'locals' is the locals dictionary of the given frame.\"\"\"\u001b[39;00m\n\u001b[0;32m-> 1346\u001b[0m     args, varargs, varkw \u001b[38;5;241m=\u001b[39m getargs(\u001b[43mframe\u001b[49m\u001b[38;5;241;43m.\u001b[39;49m\u001b[43mf_code\u001b[49m)\n\u001b[1;32m   1347\u001b[0m     \u001b[38;5;28;01mreturn\u001b[39;00m ArgInfo(args, varargs, varkw, frame\u001b[38;5;241m.\u001b[39mf_locals)\n",
      "\u001b[0;31mAttributeError\u001b[0m: 'code' object has no attribute 'f_code'"
     ]
    }
   ],
   "source": [
    "inspect.getargvalues(test_function.__code__)"
   ]
  },
  {
   "cell_type": "code",
   "execution_count": 70,
   "id": "bddac05b-40c1-405d-90d1-474b4dacdc34",
   "metadata": {},
   "outputs": [
    {
     "ename": "AttributeError",
     "evalue": "'function' object has no attribute 'ds'",
     "output_type": "error",
     "traceback": [
      "\u001b[0;31m---------------------------------------------------------------------------\u001b[0m",
      "\u001b[0;31mAttributeError\u001b[0m                            Traceback (most recent call last)",
      "Cell \u001b[0;32mIn[70], line 1\u001b[0m\n\u001b[0;32m----> 1\u001b[0m \u001b[38;5;28;43mgetattr\u001b[39;49m\u001b[43m(\u001b[49m\u001b[43mtest_function\u001b[49m\u001b[43m,\u001b[49m\u001b[43m \u001b[49m\u001b[38;5;124;43m'\u001b[39;49m\u001b[38;5;124;43mds\u001b[39;49m\u001b[38;5;124;43m'\u001b[39;49m\u001b[43m)\u001b[49m\n",
      "\u001b[0;31mAttributeError\u001b[0m: 'function' object has no attribute 'ds'"
     ]
    }
   ],
   "source": [
    "getattr(test_function, 'ds')"
   ]
  },
  {
   "cell_type": "code",
   "execution_count": 72,
   "id": "7bbd1336-2b3b-41b4-bbfc-f50566fc8f15",
   "metadata": {},
   "outputs": [
    {
     "data": {
      "text/plain": [
       "<function __main__.test_function(ds: pandas.core.series.Series, int) -> pandas.core.series.Series>"
      ]
     },
     "execution_count": 72,
     "metadata": {},
     "output_type": "execute_result"
    }
   ],
   "source": [
    "globals()['test_function']"
   ]
  },
  {
   "cell_type": "code",
   "execution_count": 83,
   "id": "7776b247-2368-4e10-a7b8-80259ea72ded",
   "metadata": {},
   "outputs": [],
   "source": [
    "from typing import get_type_hints"
   ]
  },
  {
   "cell_type": "code",
   "execution_count": 88,
   "id": "daad0e1c-db7b-4616-ba6b-8805a0f61961",
   "metadata": {},
   "outputs": [
    {
     "data": {
      "text/plain": [
       "{'ds': pandas.core.series.Series,\n",
       " 'i': int,\n",
       " 'return': pandas.core.series.Series}"
      ]
     },
     "execution_count": 88,
     "metadata": {},
     "output_type": "execute_result"
    }
   ],
   "source": [
    "get_type_hints(test_function)"
   ]
  },
  {
   "cell_type": "code",
   "execution_count": 89,
   "id": "2213dcb3-5427-4d7c-bee3-039642981b62",
   "metadata": {},
   "outputs": [],
   "source": [
    " test_list = []"
   ]
  },
  {
   "cell_type": "code",
   "execution_count": 90,
   "id": "0a9302e2-f64b-484c-b049-06f4f4c4ebdf",
   "metadata": {},
   "outputs": [
    {
     "data": {
      "text/plain": [
       "['a']"
      ]
     },
     "execution_count": 90,
     "metadata": {},
     "output_type": "execute_result"
    }
   ],
   "source": [
    "test_list.insert(0, \"a\")\n",
    "test_list"
   ]
  },
  {
   "cell_type": "code",
   "execution_count": 91,
   "id": "df80ccb4-0d18-4e85-ac4f-acd4b6f2c0c9",
   "metadata": {},
   "outputs": [
    {
     "data": {
      "text/plain": [
       "['b', 'a']"
      ]
     },
     "execution_count": 91,
     "metadata": {},
     "output_type": "execute_result"
    }
   ],
   "source": [
    "test_list.insert(0, \"b\")\n",
    "test_list"
   ]
  },
  {
   "cell_type": "code",
   "execution_count": 92,
   "id": "3f055db8-d1f5-4ec1-9573-20a2b5e37a62",
   "metadata": {},
   "outputs": [
    {
     "data": {
      "text/plain": [
       "['b', 'c', 'a']"
      ]
     },
     "execution_count": 92,
     "metadata": {},
     "output_type": "execute_result"
    }
   ],
   "source": [
    "test_list.insert(1, \"c\")\n",
    "test_list"
   ]
  },
  {
   "cell_type": "code",
   "execution_count": 94,
   "id": "2c1958be-facd-455f-ba57-eded46475d52",
   "metadata": {},
   "outputs": [
    {
     "data": {
      "text/plain": [
       "['b', 'c', 'c', 'a', 'c']"
      ]
     },
     "execution_count": 94,
     "metadata": {},
     "output_type": "execute_result"
    }
   ],
   "source": [
    "test_list.insert(10000, \"c\")\n",
    "test_list"
   ]
  },
  {
   "cell_type": "code",
   "execution_count": null,
   "id": "fc29d688-c827-474d-859c-bd7a5b86e3fa",
   "metadata": {},
   "outputs": [],
   "source": []
  }
 ],
 "metadata": {
  "kernelspec": {
   "display_name": "Python 3 (ipykernel)",
   "language": "python",
   "name": "python3"
  },
  "language_info": {
   "codemirror_mode": {
    "name": "ipython",
    "version": 3
   },
   "file_extension": ".py",
   "mimetype": "text/x-python",
   "name": "python",
   "nbconvert_exporter": "python",
   "pygments_lexer": "ipython3",
   "version": "3.10.13"
  }
 },
 "nbformat": 4,
 "nbformat_minor": 5
}
