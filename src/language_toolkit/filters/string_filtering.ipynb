{
 "cells": [
  {
   "cell_type": "markdown",
   "id": "a93ba1f7c9754ccf",
   "metadata": {
    "collapsed": false,
    "jupyter": {
     "outputs_hidden": false
    }
   },
   "source": [
    "# Message Filtering"
   ]
  },
  {
   "cell_type": "code",
   "execution_count": 1,
   "id": "39ba058594bc022f",
   "metadata": {
    "ExecuteTime": {
     "end_time": "2024-02-26T01:50:14.034703Z",
     "start_time": "2024-02-26T01:50:12.489330Z"
    },
    "collapsed": false,
    "jupyter": {
     "outputs_hidden": false
    }
   },
   "outputs": [],
   "source": [
    "from at_nlp.filters.string_filter import StringFilter\n",
    "from at_nlp.filters.preprocessor_stack import PreprocessorStack\n",
    "from pathlib import Path\n",
    "from functools import partial\n",
    "from snorkel.labeling import labeling_function\n",
    "import pandas as pd\n",
    "import numpy as np\n",
    "from dask.diagnostics import Profiler, ResourceProfiler, CacheProfiler\n",
    "from dask.diagnostics import ProgressBar\n",
    "from dask.diagnostics import visualize\n",
    "from dask.distributed import LocalCluster\n",
    "from dask.distributed import Client"
   ]
  },
  {
   "cell_type": "code",
   "execution_count": 2,
   "id": "428185d9-1447-40e8-a4a8-3965de230b21",
   "metadata": {},
   "outputs": [],
   "source": [
    "stack = PreprocessorStack()"
   ]
  },
  {
   "cell_type": "code",
   "execution_count": 3,
   "id": "145e1114-1182-4687-b7d1-f5b970ab9436",
   "metadata": {},
   "outputs": [],
   "source": [
    "def make_lower_case(ds: pd.Series, position: int) -> pd.Series:\n",
    "    s: str = ds.iat[position]\n",
    "    ds.iat[position] = s.lower()\n",
    "    return ds"
   ]
  },
  {
   "cell_type": "code",
   "execution_count": 4,
   "id": "7aa634ba-4377-4544-ad3e-d172b13290ef",
   "metadata": {},
   "outputs": [],
   "source": [
    "stack.append(make_lower_case)"
   ]
  },
  {
   "cell_type": "code",
   "execution_count": 5,
   "id": "748e09c9-58f4-4a86-98fc-a3fe6728878c",
   "metadata": {},
   "outputs": [
    {
     "data": {
      "text/html": [
       "<pre style=\"white-space:pre;overflow-x:auto;line-height:normal;font-family:Menlo,'DejaVu Sans Mono',consolas,'Courier New',monospace\"><span style=\"font-style: italic\">             Preprocessor Callstack             </span>\n",
       "┏━━━━━━━┳━━━━━━━━━━━━━━━━━┳━━━━━━━━━━━━━━━━━━━━┓\n",
       "┃<span style=\"font-weight: bold\"> Index </span>┃<span style=\"font-weight: bold\"> Function        </span>┃<span style=\"font-weight: bold\"> Type               </span>┃\n",
       "┡━━━━━━━╇━━━━━━━━━━━━━━━━━╇━━━━━━━━━━━━━━━━━━━━┩\n",
       "│ 0     │<span style=\"font-weight: bold\"> make_lower_case </span>│ &lt;class 'function'&gt; │\n",
       "└───────┴─────────────────┴────────────────────┘\n",
       "</pre>\n"
      ],
      "text/plain": [
       "\u001b[3m             Preprocessor Callstack             \u001b[0m\n",
       "┏━━━━━━━┳━━━━━━━━━━━━━━━━━┳━━━━━━━━━━━━━━━━━━━━┓\n",
       "┃\u001b[1m \u001b[0m\u001b[1mIndex\u001b[0m\u001b[1m \u001b[0m┃\u001b[1m \u001b[0m\u001b[1mFunction       \u001b[0m\u001b[1m \u001b[0m┃\u001b[1m \u001b[0m\u001b[1mType              \u001b[0m\u001b[1m \u001b[0m┃\n",
       "┡━━━━━━━╇━━━━━━━━━━━━━━━━━╇━━━━━━━━━━━━━━━━━━━━┩\n",
       "│ 0     │\u001b[1m \u001b[0m\u001b[1mmake_lower_case\u001b[0m\u001b[1m \u001b[0m│ <class 'function'> │\n",
       "└───────┴─────────────────┴────────────────────┘\n"
      ]
     },
     "metadata": {},
     "output_type": "display_data"
    },
    {
     "name": "stdout",
     "output_type": "stream",
     "text": [
      "\n"
     ]
    }
   ],
   "source": [
    "print(stack)"
   ]
  },
  {
   "cell_type": "code",
   "execution_count": 7,
   "id": "e88e09de-ff05-4e66-b1b8-675a36665e79",
   "metadata": {},
   "outputs": [],
   "source": [
    "x = [1, 2, 3, 4, 5]"
   ]
  },
  {
   "cell_type": "code",
   "execution_count": 12,
   "id": "fcbfed97-7f44-44b3-9975-fdd2a5280788",
   "metadata": {},
   "outputs": [
    {
     "data": {
      "text/plain": [
       "[1, 'a', 2, 'a', 3, 4, 5, 2, 'a']"
      ]
     },
     "execution_count": 12,
     "metadata": {},
     "output_type": "execute_result"
    }
   ],
   "source": [
    "x.insert(1, 'a')\n",
    "x"
   ]
  },
  {
   "cell_type": "code",
   "execution_count": 6,
   "id": "1d86afaa-a9fd-4195-975e-82f3174f1eca",
   "metadata": {
    "ExecuteTime": {
     "end_time": "2024-02-26T01:50:16.661205Z",
     "start_time": "2024-02-26T01:50:15.342354Z"
    }
   },
   "outputs": [
    {
     "data": {
      "text/html": [
       "<div>\n",
       "    <div style=\"width: 24px; height: 24px; background-color: #e1e1e1; border: 3px solid #9D9D9D; border-radius: 5px; position: absolute;\"> </div>\n",
       "    <div style=\"margin-left: 48px;\">\n",
       "        <h3 style=\"margin-bottom: 0px;\">Client</h3>\n",
       "        <p style=\"color: #9D9D9D; margin-bottom: 0px;\">Client-e0f16204-d583-11ee-9cff-d66a5a1470ff</p>\n",
       "        <table style=\"width: 100%; text-align: left;\">\n",
       "\n",
       "        <tr>\n",
       "        \n",
       "            <td style=\"text-align: left;\"><strong>Connection method:</strong> Cluster object</td>\n",
       "            <td style=\"text-align: left;\"><strong>Cluster type:</strong> distributed.LocalCluster</td>\n",
       "        \n",
       "        </tr>\n",
       "\n",
       "        \n",
       "            <tr>\n",
       "                <td style=\"text-align: left;\">\n",
       "                    <strong>Dashboard: </strong> <a href=\"http://127.0.0.1:8787/status\" target=\"_blank\">http://127.0.0.1:8787/status</a>\n",
       "                </td>\n",
       "                <td style=\"text-align: left;\"></td>\n",
       "            </tr>\n",
       "        \n",
       "\n",
       "        </table>\n",
       "\n",
       "        \n",
       "            <button style=\"margin-bottom: 12px;\" data-commandlinker-command=\"dask:populate-and-launch-layout\" data-commandlinker-args='{\"url\": \"http://127.0.0.1:8787/status\" }'>\n",
       "                Launch dashboard in JupyterLab\n",
       "            </button>\n",
       "        \n",
       "\n",
       "        \n",
       "            <details>\n",
       "            <summary style=\"margin-bottom: 20px;\"><h3 style=\"display: inline;\">Cluster Info</h3></summary>\n",
       "            <div class=\"jp-RenderedHTMLCommon jp-RenderedHTML jp-mod-trusted jp-OutputArea-output\">\n",
       "    <div style=\"width: 24px; height: 24px; background-color: #e1e1e1; border: 3px solid #9D9D9D; border-radius: 5px; position: absolute;\">\n",
       "    </div>\n",
       "    <div style=\"margin-left: 48px;\">\n",
       "        <h3 style=\"margin-bottom: 0px; margin-top: 0px;\">LocalCluster</h3>\n",
       "        <p style=\"color: #9D9D9D; margin-bottom: 0px;\">b75b9ba5</p>\n",
       "        <table style=\"width: 100%; text-align: left;\">\n",
       "            <tr>\n",
       "                <td style=\"text-align: left;\">\n",
       "                    <strong>Dashboard:</strong> <a href=\"http://127.0.0.1:8787/status\" target=\"_blank\">http://127.0.0.1:8787/status</a>\n",
       "                </td>\n",
       "                <td style=\"text-align: left;\">\n",
       "                    <strong>Workers:</strong> 10\n",
       "                </td>\n",
       "            </tr>\n",
       "            <tr>\n",
       "                <td style=\"text-align: left;\">\n",
       "                    <strong>Total threads:</strong> 20\n",
       "                </td>\n",
       "                <td style=\"text-align: left;\">\n",
       "                    <strong>Total memory:</strong> 36.00 GiB\n",
       "                </td>\n",
       "            </tr>\n",
       "            \n",
       "            <tr>\n",
       "    <td style=\"text-align: left;\"><strong>Status:</strong> running</td>\n",
       "    <td style=\"text-align: left;\"><strong>Using processes:</strong> True</td>\n",
       "</tr>\n",
       "\n",
       "            \n",
       "        </table>\n",
       "\n",
       "        <details>\n",
       "            <summary style=\"margin-bottom: 20px;\">\n",
       "                <h3 style=\"display: inline;\">Scheduler Info</h3>\n",
       "            </summary>\n",
       "\n",
       "            <div style=\"\">\n",
       "    <div>\n",
       "        <div style=\"width: 24px; height: 24px; background-color: #FFF7E5; border: 3px solid #FF6132; border-radius: 5px; position: absolute;\"> </div>\n",
       "        <div style=\"margin-left: 48px;\">\n",
       "            <h3 style=\"margin-bottom: 0px;\">Scheduler</h3>\n",
       "            <p style=\"color: #9D9D9D; margin-bottom: 0px;\">Scheduler-9b0f7406-0733-4047-906f-9c54da527c81</p>\n",
       "            <table style=\"width: 100%; text-align: left;\">\n",
       "                <tr>\n",
       "                    <td style=\"text-align: left;\">\n",
       "                        <strong>Comm:</strong> tcp://127.0.0.1:49294\n",
       "                    </td>\n",
       "                    <td style=\"text-align: left;\">\n",
       "                        <strong>Workers:</strong> 10\n",
       "                    </td>\n",
       "                </tr>\n",
       "                <tr>\n",
       "                    <td style=\"text-align: left;\">\n",
       "                        <strong>Dashboard:</strong> <a href=\"http://127.0.0.1:8787/status\" target=\"_blank\">http://127.0.0.1:8787/status</a>\n",
       "                    </td>\n",
       "                    <td style=\"text-align: left;\">\n",
       "                        <strong>Total threads:</strong> 20\n",
       "                    </td>\n",
       "                </tr>\n",
       "                <tr>\n",
       "                    <td style=\"text-align: left;\">\n",
       "                        <strong>Started:</strong> Just now\n",
       "                    </td>\n",
       "                    <td style=\"text-align: left;\">\n",
       "                        <strong>Total memory:</strong> 36.00 GiB\n",
       "                    </td>\n",
       "                </tr>\n",
       "            </table>\n",
       "        </div>\n",
       "    </div>\n",
       "\n",
       "    <details style=\"margin-left: 48px;\">\n",
       "        <summary style=\"margin-bottom: 20px;\">\n",
       "            <h3 style=\"display: inline;\">Workers</h3>\n",
       "        </summary>\n",
       "\n",
       "        \n",
       "        <div style=\"margin-bottom: 20px;\">\n",
       "            <div style=\"width: 24px; height: 24px; background-color: #DBF5FF; border: 3px solid #4CC9FF; border-radius: 5px; position: absolute;\"> </div>\n",
       "            <div style=\"margin-left: 48px;\">\n",
       "            <details>\n",
       "                <summary>\n",
       "                    <h4 style=\"margin-bottom: 0px; display: inline;\">Worker: 0</h4>\n",
       "                </summary>\n",
       "                <table style=\"width: 100%; text-align: left;\">\n",
       "                    <tr>\n",
       "                        <td style=\"text-align: left;\">\n",
       "                            <strong>Comm: </strong> tcp://127.0.0.1:49317\n",
       "                        </td>\n",
       "                        <td style=\"text-align: left;\">\n",
       "                            <strong>Total threads: </strong> 2\n",
       "                        </td>\n",
       "                    </tr>\n",
       "                    <tr>\n",
       "                        <td style=\"text-align: left;\">\n",
       "                            <strong>Dashboard: </strong> <a href=\"http://127.0.0.1:49319/status\" target=\"_blank\">http://127.0.0.1:49319/status</a>\n",
       "                        </td>\n",
       "                        <td style=\"text-align: left;\">\n",
       "                            <strong>Memory: </strong> 3.60 GiB\n",
       "                        </td>\n",
       "                    </tr>\n",
       "                    <tr>\n",
       "                        <td style=\"text-align: left;\">\n",
       "                            <strong>Nanny: </strong> tcp://127.0.0.1:49297\n",
       "                        </td>\n",
       "                        <td style=\"text-align: left;\"></td>\n",
       "                    </tr>\n",
       "                    <tr>\n",
       "                        <td colspan=\"2\" style=\"text-align: left;\">\n",
       "                            <strong>Local directory: </strong> /var/folders/0v/qg5tfj515hg3n94wnpt37g1h0000gn/T/dask-scratch-space/worker-g3dffr51\n",
       "                        </td>\n",
       "                    </tr>\n",
       "\n",
       "                    \n",
       "\n",
       "                    \n",
       "\n",
       "                </table>\n",
       "            </details>\n",
       "            </div>\n",
       "        </div>\n",
       "        \n",
       "        <div style=\"margin-bottom: 20px;\">\n",
       "            <div style=\"width: 24px; height: 24px; background-color: #DBF5FF; border: 3px solid #4CC9FF; border-radius: 5px; position: absolute;\"> </div>\n",
       "            <div style=\"margin-left: 48px;\">\n",
       "            <details>\n",
       "                <summary>\n",
       "                    <h4 style=\"margin-bottom: 0px; display: inline;\">Worker: 1</h4>\n",
       "                </summary>\n",
       "                <table style=\"width: 100%; text-align: left;\">\n",
       "                    <tr>\n",
       "                        <td style=\"text-align: left;\">\n",
       "                            <strong>Comm: </strong> tcp://127.0.0.1:49318\n",
       "                        </td>\n",
       "                        <td style=\"text-align: left;\">\n",
       "                            <strong>Total threads: </strong> 2\n",
       "                        </td>\n",
       "                    </tr>\n",
       "                    <tr>\n",
       "                        <td style=\"text-align: left;\">\n",
       "                            <strong>Dashboard: </strong> <a href=\"http://127.0.0.1:49321/status\" target=\"_blank\">http://127.0.0.1:49321/status</a>\n",
       "                        </td>\n",
       "                        <td style=\"text-align: left;\">\n",
       "                            <strong>Memory: </strong> 3.60 GiB\n",
       "                        </td>\n",
       "                    </tr>\n",
       "                    <tr>\n",
       "                        <td style=\"text-align: left;\">\n",
       "                            <strong>Nanny: </strong> tcp://127.0.0.1:49298\n",
       "                        </td>\n",
       "                        <td style=\"text-align: left;\"></td>\n",
       "                    </tr>\n",
       "                    <tr>\n",
       "                        <td colspan=\"2\" style=\"text-align: left;\">\n",
       "                            <strong>Local directory: </strong> /var/folders/0v/qg5tfj515hg3n94wnpt37g1h0000gn/T/dask-scratch-space/worker-e1vmt0xr\n",
       "                        </td>\n",
       "                    </tr>\n",
       "\n",
       "                    \n",
       "\n",
       "                    \n",
       "\n",
       "                </table>\n",
       "            </details>\n",
       "            </div>\n",
       "        </div>\n",
       "        \n",
       "        <div style=\"margin-bottom: 20px;\">\n",
       "            <div style=\"width: 24px; height: 24px; background-color: #DBF5FF; border: 3px solid #4CC9FF; border-radius: 5px; position: absolute;\"> </div>\n",
       "            <div style=\"margin-left: 48px;\">\n",
       "            <details>\n",
       "                <summary>\n",
       "                    <h4 style=\"margin-bottom: 0px; display: inline;\">Worker: 2</h4>\n",
       "                </summary>\n",
       "                <table style=\"width: 100%; text-align: left;\">\n",
       "                    <tr>\n",
       "                        <td style=\"text-align: left;\">\n",
       "                            <strong>Comm: </strong> tcp://127.0.0.1:49323\n",
       "                        </td>\n",
       "                        <td style=\"text-align: left;\">\n",
       "                            <strong>Total threads: </strong> 2\n",
       "                        </td>\n",
       "                    </tr>\n",
       "                    <tr>\n",
       "                        <td style=\"text-align: left;\">\n",
       "                            <strong>Dashboard: </strong> <a href=\"http://127.0.0.1:49328/status\" target=\"_blank\">http://127.0.0.1:49328/status</a>\n",
       "                        </td>\n",
       "                        <td style=\"text-align: left;\">\n",
       "                            <strong>Memory: </strong> 3.60 GiB\n",
       "                        </td>\n",
       "                    </tr>\n",
       "                    <tr>\n",
       "                        <td style=\"text-align: left;\">\n",
       "                            <strong>Nanny: </strong> tcp://127.0.0.1:49299\n",
       "                        </td>\n",
       "                        <td style=\"text-align: left;\"></td>\n",
       "                    </tr>\n",
       "                    <tr>\n",
       "                        <td colspan=\"2\" style=\"text-align: left;\">\n",
       "                            <strong>Local directory: </strong> /var/folders/0v/qg5tfj515hg3n94wnpt37g1h0000gn/T/dask-scratch-space/worker-ez0b0ntq\n",
       "                        </td>\n",
       "                    </tr>\n",
       "\n",
       "                    \n",
       "\n",
       "                    \n",
       "\n",
       "                </table>\n",
       "            </details>\n",
       "            </div>\n",
       "        </div>\n",
       "        \n",
       "        <div style=\"margin-bottom: 20px;\">\n",
       "            <div style=\"width: 24px; height: 24px; background-color: #DBF5FF; border: 3px solid #4CC9FF; border-radius: 5px; position: absolute;\"> </div>\n",
       "            <div style=\"margin-left: 48px;\">\n",
       "            <details>\n",
       "                <summary>\n",
       "                    <h4 style=\"margin-bottom: 0px; display: inline;\">Worker: 3</h4>\n",
       "                </summary>\n",
       "                <table style=\"width: 100%; text-align: left;\">\n",
       "                    <tr>\n",
       "                        <td style=\"text-align: left;\">\n",
       "                            <strong>Comm: </strong> tcp://127.0.0.1:49327\n",
       "                        </td>\n",
       "                        <td style=\"text-align: left;\">\n",
       "                            <strong>Total threads: </strong> 2\n",
       "                        </td>\n",
       "                    </tr>\n",
       "                    <tr>\n",
       "                        <td style=\"text-align: left;\">\n",
       "                            <strong>Dashboard: </strong> <a href=\"http://127.0.0.1:49332/status\" target=\"_blank\">http://127.0.0.1:49332/status</a>\n",
       "                        </td>\n",
       "                        <td style=\"text-align: left;\">\n",
       "                            <strong>Memory: </strong> 3.60 GiB\n",
       "                        </td>\n",
       "                    </tr>\n",
       "                    <tr>\n",
       "                        <td style=\"text-align: left;\">\n",
       "                            <strong>Nanny: </strong> tcp://127.0.0.1:49300\n",
       "                        </td>\n",
       "                        <td style=\"text-align: left;\"></td>\n",
       "                    </tr>\n",
       "                    <tr>\n",
       "                        <td colspan=\"2\" style=\"text-align: left;\">\n",
       "                            <strong>Local directory: </strong> /var/folders/0v/qg5tfj515hg3n94wnpt37g1h0000gn/T/dask-scratch-space/worker-sijqh6ki\n",
       "                        </td>\n",
       "                    </tr>\n",
       "\n",
       "                    \n",
       "\n",
       "                    \n",
       "\n",
       "                </table>\n",
       "            </details>\n",
       "            </div>\n",
       "        </div>\n",
       "        \n",
       "        <div style=\"margin-bottom: 20px;\">\n",
       "            <div style=\"width: 24px; height: 24px; background-color: #DBF5FF; border: 3px solid #4CC9FF; border-radius: 5px; position: absolute;\"> </div>\n",
       "            <div style=\"margin-left: 48px;\">\n",
       "            <details>\n",
       "                <summary>\n",
       "                    <h4 style=\"margin-bottom: 0px; display: inline;\">Worker: 4</h4>\n",
       "                </summary>\n",
       "                <table style=\"width: 100%; text-align: left;\">\n",
       "                    <tr>\n",
       "                        <td style=\"text-align: left;\">\n",
       "                            <strong>Comm: </strong> tcp://127.0.0.1:49329\n",
       "                        </td>\n",
       "                        <td style=\"text-align: left;\">\n",
       "                            <strong>Total threads: </strong> 2\n",
       "                        </td>\n",
       "                    </tr>\n",
       "                    <tr>\n",
       "                        <td style=\"text-align: left;\">\n",
       "                            <strong>Dashboard: </strong> <a href=\"http://127.0.0.1:49334/status\" target=\"_blank\">http://127.0.0.1:49334/status</a>\n",
       "                        </td>\n",
       "                        <td style=\"text-align: left;\">\n",
       "                            <strong>Memory: </strong> 3.60 GiB\n",
       "                        </td>\n",
       "                    </tr>\n",
       "                    <tr>\n",
       "                        <td style=\"text-align: left;\">\n",
       "                            <strong>Nanny: </strong> tcp://127.0.0.1:49301\n",
       "                        </td>\n",
       "                        <td style=\"text-align: left;\"></td>\n",
       "                    </tr>\n",
       "                    <tr>\n",
       "                        <td colspan=\"2\" style=\"text-align: left;\">\n",
       "                            <strong>Local directory: </strong> /var/folders/0v/qg5tfj515hg3n94wnpt37g1h0000gn/T/dask-scratch-space/worker-r3v7tqxy\n",
       "                        </td>\n",
       "                    </tr>\n",
       "\n",
       "                    \n",
       "\n",
       "                    \n",
       "\n",
       "                </table>\n",
       "            </details>\n",
       "            </div>\n",
       "        </div>\n",
       "        \n",
       "        <div style=\"margin-bottom: 20px;\">\n",
       "            <div style=\"width: 24px; height: 24px; background-color: #DBF5FF; border: 3px solid #4CC9FF; border-radius: 5px; position: absolute;\"> </div>\n",
       "            <div style=\"margin-left: 48px;\">\n",
       "            <details>\n",
       "                <summary>\n",
       "                    <h4 style=\"margin-bottom: 0px; display: inline;\">Worker: 5</h4>\n",
       "                </summary>\n",
       "                <table style=\"width: 100%; text-align: left;\">\n",
       "                    <tr>\n",
       "                        <td style=\"text-align: left;\">\n",
       "                            <strong>Comm: </strong> tcp://127.0.0.1:49339\n",
       "                        </td>\n",
       "                        <td style=\"text-align: left;\">\n",
       "                            <strong>Total threads: </strong> 2\n",
       "                        </td>\n",
       "                    </tr>\n",
       "                    <tr>\n",
       "                        <td style=\"text-align: left;\">\n",
       "                            <strong>Dashboard: </strong> <a href=\"http://127.0.0.1:49342/status\" target=\"_blank\">http://127.0.0.1:49342/status</a>\n",
       "                        </td>\n",
       "                        <td style=\"text-align: left;\">\n",
       "                            <strong>Memory: </strong> 3.60 GiB\n",
       "                        </td>\n",
       "                    </tr>\n",
       "                    <tr>\n",
       "                        <td style=\"text-align: left;\">\n",
       "                            <strong>Nanny: </strong> tcp://127.0.0.1:49302\n",
       "                        </td>\n",
       "                        <td style=\"text-align: left;\"></td>\n",
       "                    </tr>\n",
       "                    <tr>\n",
       "                        <td colspan=\"2\" style=\"text-align: left;\">\n",
       "                            <strong>Local directory: </strong> /var/folders/0v/qg5tfj515hg3n94wnpt37g1h0000gn/T/dask-scratch-space/worker-t5fih_3m\n",
       "                        </td>\n",
       "                    </tr>\n",
       "\n",
       "                    \n",
       "\n",
       "                    \n",
       "\n",
       "                </table>\n",
       "            </details>\n",
       "            </div>\n",
       "        </div>\n",
       "        \n",
       "        <div style=\"margin-bottom: 20px;\">\n",
       "            <div style=\"width: 24px; height: 24px; background-color: #DBF5FF; border: 3px solid #4CC9FF; border-radius: 5px; position: absolute;\"> </div>\n",
       "            <div style=\"margin-left: 48px;\">\n",
       "            <details>\n",
       "                <summary>\n",
       "                    <h4 style=\"margin-bottom: 0px; display: inline;\">Worker: 6</h4>\n",
       "                </summary>\n",
       "                <table style=\"width: 100%; text-align: left;\">\n",
       "                    <tr>\n",
       "                        <td style=\"text-align: left;\">\n",
       "                            <strong>Comm: </strong> tcp://127.0.0.1:49324\n",
       "                        </td>\n",
       "                        <td style=\"text-align: left;\">\n",
       "                            <strong>Total threads: </strong> 2\n",
       "                        </td>\n",
       "                    </tr>\n",
       "                    <tr>\n",
       "                        <td style=\"text-align: left;\">\n",
       "                            <strong>Dashboard: </strong> <a href=\"http://127.0.0.1:49325/status\" target=\"_blank\">http://127.0.0.1:49325/status</a>\n",
       "                        </td>\n",
       "                        <td style=\"text-align: left;\">\n",
       "                            <strong>Memory: </strong> 3.60 GiB\n",
       "                        </td>\n",
       "                    </tr>\n",
       "                    <tr>\n",
       "                        <td style=\"text-align: left;\">\n",
       "                            <strong>Nanny: </strong> tcp://127.0.0.1:49303\n",
       "                        </td>\n",
       "                        <td style=\"text-align: left;\"></td>\n",
       "                    </tr>\n",
       "                    <tr>\n",
       "                        <td colspan=\"2\" style=\"text-align: left;\">\n",
       "                            <strong>Local directory: </strong> /var/folders/0v/qg5tfj515hg3n94wnpt37g1h0000gn/T/dask-scratch-space/worker-ooib0t4d\n",
       "                        </td>\n",
       "                    </tr>\n",
       "\n",
       "                    \n",
       "\n",
       "                    \n",
       "\n",
       "                </table>\n",
       "            </details>\n",
       "            </div>\n",
       "        </div>\n",
       "        \n",
       "        <div style=\"margin-bottom: 20px;\">\n",
       "            <div style=\"width: 24px; height: 24px; background-color: #DBF5FF; border: 3px solid #4CC9FF; border-radius: 5px; position: absolute;\"> </div>\n",
       "            <div style=\"margin-left: 48px;\">\n",
       "            <details>\n",
       "                <summary>\n",
       "                    <h4 style=\"margin-bottom: 0px; display: inline;\">Worker: 7</h4>\n",
       "                </summary>\n",
       "                <table style=\"width: 100%; text-align: left;\">\n",
       "                    <tr>\n",
       "                        <td style=\"text-align: left;\">\n",
       "                            <strong>Comm: </strong> tcp://127.0.0.1:49336\n",
       "                        </td>\n",
       "                        <td style=\"text-align: left;\">\n",
       "                            <strong>Total threads: </strong> 2\n",
       "                        </td>\n",
       "                    </tr>\n",
       "                    <tr>\n",
       "                        <td style=\"text-align: left;\">\n",
       "                            <strong>Dashboard: </strong> <a href=\"http://127.0.0.1:49340/status\" target=\"_blank\">http://127.0.0.1:49340/status</a>\n",
       "                        </td>\n",
       "                        <td style=\"text-align: left;\">\n",
       "                            <strong>Memory: </strong> 3.60 GiB\n",
       "                        </td>\n",
       "                    </tr>\n",
       "                    <tr>\n",
       "                        <td style=\"text-align: left;\">\n",
       "                            <strong>Nanny: </strong> tcp://127.0.0.1:49304\n",
       "                        </td>\n",
       "                        <td style=\"text-align: left;\"></td>\n",
       "                    </tr>\n",
       "                    <tr>\n",
       "                        <td colspan=\"2\" style=\"text-align: left;\">\n",
       "                            <strong>Local directory: </strong> /var/folders/0v/qg5tfj515hg3n94wnpt37g1h0000gn/T/dask-scratch-space/worker-5a46w2k_\n",
       "                        </td>\n",
       "                    </tr>\n",
       "\n",
       "                    \n",
       "\n",
       "                    \n",
       "\n",
       "                </table>\n",
       "            </details>\n",
       "            </div>\n",
       "        </div>\n",
       "        \n",
       "        <div style=\"margin-bottom: 20px;\">\n",
       "            <div style=\"width: 24px; height: 24px; background-color: #DBF5FF; border: 3px solid #4CC9FF; border-radius: 5px; position: absolute;\"> </div>\n",
       "            <div style=\"margin-left: 48px;\">\n",
       "            <details>\n",
       "                <summary>\n",
       "                    <h4 style=\"margin-bottom: 0px; display: inline;\">Worker: 8</h4>\n",
       "                </summary>\n",
       "                <table style=\"width: 100%; text-align: left;\">\n",
       "                    <tr>\n",
       "                        <td style=\"text-align: left;\">\n",
       "                            <strong>Comm: </strong> tcp://127.0.0.1:49331\n",
       "                        </td>\n",
       "                        <td style=\"text-align: left;\">\n",
       "                            <strong>Total threads: </strong> 2\n",
       "                        </td>\n",
       "                    </tr>\n",
       "                    <tr>\n",
       "                        <td style=\"text-align: left;\">\n",
       "                            <strong>Dashboard: </strong> <a href=\"http://127.0.0.1:49337/status\" target=\"_blank\">http://127.0.0.1:49337/status</a>\n",
       "                        </td>\n",
       "                        <td style=\"text-align: left;\">\n",
       "                            <strong>Memory: </strong> 3.60 GiB\n",
       "                        </td>\n",
       "                    </tr>\n",
       "                    <tr>\n",
       "                        <td style=\"text-align: left;\">\n",
       "                            <strong>Nanny: </strong> tcp://127.0.0.1:49305\n",
       "                        </td>\n",
       "                        <td style=\"text-align: left;\"></td>\n",
       "                    </tr>\n",
       "                    <tr>\n",
       "                        <td colspan=\"2\" style=\"text-align: left;\">\n",
       "                            <strong>Local directory: </strong> /var/folders/0v/qg5tfj515hg3n94wnpt37g1h0000gn/T/dask-scratch-space/worker-pmejmm4e\n",
       "                        </td>\n",
       "                    </tr>\n",
       "\n",
       "                    \n",
       "\n",
       "                    \n",
       "\n",
       "                </table>\n",
       "            </details>\n",
       "            </div>\n",
       "        </div>\n",
       "        \n",
       "        <div style=\"margin-bottom: 20px;\">\n",
       "            <div style=\"width: 24px; height: 24px; background-color: #DBF5FF; border: 3px solid #4CC9FF; border-radius: 5px; position: absolute;\"> </div>\n",
       "            <div style=\"margin-left: 48px;\">\n",
       "            <details>\n",
       "                <summary>\n",
       "                    <h4 style=\"margin-bottom: 0px; display: inline;\">Worker: 9</h4>\n",
       "                </summary>\n",
       "                <table style=\"width: 100%; text-align: left;\">\n",
       "                    <tr>\n",
       "                        <td style=\"text-align: left;\">\n",
       "                            <strong>Comm: </strong> tcp://127.0.0.1:49344\n",
       "                        </td>\n",
       "                        <td style=\"text-align: left;\">\n",
       "                            <strong>Total threads: </strong> 2\n",
       "                        </td>\n",
       "                    </tr>\n",
       "                    <tr>\n",
       "                        <td style=\"text-align: left;\">\n",
       "                            <strong>Dashboard: </strong> <a href=\"http://127.0.0.1:49345/status\" target=\"_blank\">http://127.0.0.1:49345/status</a>\n",
       "                        </td>\n",
       "                        <td style=\"text-align: left;\">\n",
       "                            <strong>Memory: </strong> 3.60 GiB\n",
       "                        </td>\n",
       "                    </tr>\n",
       "                    <tr>\n",
       "                        <td style=\"text-align: left;\">\n",
       "                            <strong>Nanny: </strong> tcp://127.0.0.1:49306\n",
       "                        </td>\n",
       "                        <td style=\"text-align: left;\"></td>\n",
       "                    </tr>\n",
       "                    <tr>\n",
       "                        <td colspan=\"2\" style=\"text-align: left;\">\n",
       "                            <strong>Local directory: </strong> /var/folders/0v/qg5tfj515hg3n94wnpt37g1h0000gn/T/dask-scratch-space/worker-k57o8w9v\n",
       "                        </td>\n",
       "                    </tr>\n",
       "\n",
       "                    \n",
       "\n",
       "                    \n",
       "\n",
       "                </table>\n",
       "            </details>\n",
       "            </div>\n",
       "        </div>\n",
       "        \n",
       "\n",
       "    </details>\n",
       "</div>\n",
       "\n",
       "        </details>\n",
       "    </div>\n",
       "</div>\n",
       "            </details>\n",
       "        \n",
       "\n",
       "    </div>\n",
       "</div>"
      ],
      "text/plain": [
       "<Client: 'tcp://127.0.0.1:49294' processes=10 threads=20, memory=36.00 GiB>"
      ]
     },
     "execution_count": 6,
     "metadata": {},
     "output_type": "execute_result"
    }
   ],
   "source": [
    "num_processors = 10\n",
    "cluster = LocalCluster(n_workers=num_processors)          # Fully-featured local Dask cluster\n",
    "client = cluster.get_client()\n",
    "client"
   ]
  },
  {
   "cell_type": "code",
   "execution_count": null,
   "id": "9def7fcfb90ec52a",
   "metadata": {
    "ExecuteTime": {
     "end_time": "2024-02-26T01:50:20.628406Z",
     "start_time": "2024-02-26T01:50:20.619215Z"
    },
    "collapsed": false,
    "jupyter": {
     "outputs_hidden": false
    }
   },
   "outputs": [],
   "source": [
    "%load_ext rich"
   ]
  },
  {
   "cell_type": "code",
   "execution_count": null,
   "id": "cf5c7c057816a573",
   "metadata": {
    "ExecuteTime": {
     "end_time": "2024-02-23T18:57:15.427263513Z",
     "start_time": "2024-02-23T18:57:15.392524658Z"
    },
    "collapsed": false,
    "jupyter": {
     "outputs_hidden": false
    }
   },
   "outputs": [],
   "source": [
    "data_path = Path(\"/home/dwalker/SIGIL/natural_language_processing/nitmre/data/(CUI) alexa_816th_file_1a1.csv\")\n",
    "assert data_path.exists(), f\"Data path {data_path} does not exist\"\n",
    "data = pd.read_csv(data_path)"
   ]
  },
  {
   "cell_type": "code",
   "execution_count": null,
   "id": "27a9b469",
   "metadata": {},
   "outputs": [],
   "source": [
    "sf.register_preprocessor([(0, fn)])\n",
    "sf.register_csv_preprocessor(data_path, idx)\n",
    "sf.register_csv_preprocessor(data_path2, idx)\n",
    "\n",
    "sf.csv_name_data = dict()\n",
    "sf.csv_name_data2 = dict()\n",
    "sf.data.extend(csv_name, csv_name2)"
   ]
  },
  {
   "cell_type": "code",
   "execution_count": null,
   "id": "f508cd453fc48d4a",
   "metadata": {
    "ExecuteTime": {
     "end_time": "2024-02-26T01:50:29.150863Z",
     "start_time": "2024-02-26T01:50:29.143307Z"
    },
    "collapsed": false,
    "jupyter": {
     "outputs_hidden": false
    }
   },
   "outputs": [],
   "source": [
    "sf = StringFilter()\n",
    "sf.reset()"
   ]
  },
  {
   "cell_type": "code",
   "execution_count": null,
   "id": "e9919931",
   "metadata": {
    "ExecuteTime": {
     "end_time": "2024-02-26T01:50:31.060909Z",
     "start_time": "2024-02-26T01:50:31.047877Z"
    }
   },
   "outputs": [],
   "source": [
    "def lower_case(ds: pd.Series, col_idx: int):\n",
    "    _s: str = ds.iat[col_idx]\n",
    "    _s = _s.lower()\n",
    "    ds.iat[col_idx] = _s\n",
    "    return ds\n",
    "\n",
    "def upper_case(ds: pd.Series, col_idx: int):\n",
    "    _s: str = ds.iat[col_idx]\n",
    "    _s = _s.upper()\n",
    "    ds.iat[col_idx] = _s\n",
    "    return ds\n",
    "\n",
    "\n",
    "pre_processors = [\n",
    "    (1, lower_case),\n",
    "    (0, upper_case)\n",
    "]\n",
    "\n",
    "sf.register_preprocessor(pre_processors)"
   ]
  },
  {
   "cell_type": "code",
   "execution_count": null,
   "id": "7b43c0b7",
   "metadata": {
    "ExecuteTime": {
     "end_time": "2024-02-26T01:50:32.201356Z",
     "start_time": "2024-02-26T01:50:32.194589Z"
    }
   },
   "outputs": [],
   "source": [
    "sf.print_preprocessor_stack()"
   ]
  },
  {
   "cell_type": "code",
   "execution_count": 13,
   "id": "3ca507f0-498d-4f9c-8db9-3c1cef967b0e",
   "metadata": {},
   "outputs": [],
   "source": [
    "test_csv_path = Path(\"../../tests/test.csv\")"
   ]
  },
  {
   "cell_type": "code",
   "execution_count": 15,
   "id": "6da374d5-e6cf-4497-b6a6-ab9a88f17fa5",
   "metadata": {},
   "outputs": [],
   "source": [
    "df2 = pd.read_csv(test_csv_path)"
   ]
  },
  {
   "cell_type": "code",
   "execution_count": 19,
   "id": "a5caf3a5-428d-47ed-b6ff-a22da18e3bc8",
   "metadata": {},
   "outputs": [],
   "source": [
    "col_name = df2.columns[0]"
   ]
  },
  {
   "cell_type": "code",
   "execution_count": 26,
   "id": "9f112083-c5dc-44cf-8b64-45123084a8bc",
   "metadata": {},
   "outputs": [
    {
     "data": {
      "text/plain": [
       "str"
      ]
     },
     "execution_count": 26,
     "metadata": {},
     "output_type": "execute_result"
    }
   ],
   "source": [
    "type(df2[col_name][0])"
   ]
  },
  {
   "cell_type": "code",
   "execution_count": 24,
   "id": "f19c2c25-34f5-4336-9e2c-8ac85c637178",
   "metadata": {},
   "outputs": [
    {
     "name": "stdout",
     "output_type": "stream",
     "text": [
      "<class 'pandas.core.frame.DataFrame'>\n",
      "RangeIndex: 3 entries, 0 to 2\n",
      "Data columns (total 2 columns):\n",
      " #   Column  Non-Null Count  Dtype \n",
      "---  ------  --------------  ----- \n",
      " 0   Source  3 non-null      object\n",
      " 1   Target  3 non-null      object\n",
      "dtypes: object(2)\n",
      "memory usage: 176.0+ bytes\n"
     ]
    }
   ],
   "source": [
    "df2.info()"
   ]
  },
  {
   "cell_type": "code",
   "execution_count": 30,
   "id": "6844230a-cf67-4b77-b64e-0cb8eeac29d9",
   "metadata": {},
   "outputs": [
    {
     "data": {
      "text/html": [
       "<pre style=\"white-space:pre;overflow-x:auto;line-height:normal;font-family:Menlo,'DejaVu Sans Mono',consolas,'Courier New',monospace\"><span style=\"color: #7fbfbf; text-decoration-color: #7fbfbf\">[11:21:50] </span>Registering CSV for preprocessing: test                                        <a href=\"file:///Users/dalton/dev/at_nlp/at_nlp/filters/preprocessor_stack.py\" target=\"_blank\"><span style=\"color: #7f7f7f; text-decoration-color: #7f7f7f\">preprocessor_stack.py</span></a><span style=\"color: #7f7f7f; text-decoration-color: #7f7f7f\">:</span><a href=\"file:///Users/dalton/dev/at_nlp/at_nlp/filters/preprocessor_stack.py#135\" target=\"_blank\"><span style=\"color: #7f7f7f; text-decoration-color: #7f7f7f\">135</span></a>\n",
       "</pre>\n"
      ],
      "text/plain": [
       "\u001b[2;36m[11:21:50]\u001b[0m\u001b[2;36m \u001b[0mRegistering CSV for preprocessing: test                                        \u001b]8;id=38880;file:///Users/dalton/dev/at_nlp/at_nlp/filters/preprocessor_stack.py\u001b\\\u001b[2mpreprocessor_stack.py\u001b[0m\u001b]8;;\u001b\\\u001b[2m:\u001b[0m\u001b]8;id=862568;file:///Users/dalton/dev/at_nlp/at_nlp/filters/preprocessor_stack.py#135\u001b\\\u001b[2m135\u001b[0m\u001b]8;;\u001b\\\n"
      ]
     },
     "metadata": {},
     "output_type": "display_data"
    },
    {
     "data": {
      "text/html": [
       "<pre style=\"white-space:pre;overflow-x:auto;line-height:normal;font-family:Menlo,'DejaVu Sans Mono',consolas,'Courier New',monospace\"><span style=\"color: #7fbfbf; text-decoration-color: #7fbfbf\">           </span>CSV registered successfully at callstack position: <span style=\"color: #008080; text-decoration-color: #008080; font-weight: bold\">1</span>!                          <a href=\"file:///Users/dalton/dev/at_nlp/at_nlp/filters/preprocessor_stack.py\" target=\"_blank\"><span style=\"color: #7f7f7f; text-decoration-color: #7f7f7f\">preprocessor_stack.py</span></a><span style=\"color: #7f7f7f; text-decoration-color: #7f7f7f\">:</span><a href=\"file:///Users/dalton/dev/at_nlp/at_nlp/filters/preprocessor_stack.py#178\" target=\"_blank\"><span style=\"color: #7f7f7f; text-decoration-color: #7f7f7f\">178</span></a>\n",
       "</pre>\n"
      ],
      "text/plain": [
       "\u001b[2;36m          \u001b[0m\u001b[2;36m \u001b[0mCSV registered successfully at callstack position: \u001b[1;36m1\u001b[0m!                          \u001b]8;id=886913;file:///Users/dalton/dev/at_nlp/at_nlp/filters/preprocessor_stack.py\u001b\\\u001b[2mpreprocessor_stack.py\u001b[0m\u001b]8;;\u001b\\\u001b[2m:\u001b[0m\u001b]8;id=566756;file:///Users/dalton/dev/at_nlp/at_nlp/filters/preprocessor_stack.py#178\u001b\\\u001b[2m178\u001b[0m\u001b]8;;\u001b\\\n"
      ]
     },
     "metadata": {},
     "output_type": "display_data"
    },
    {
     "data": {
      "text/html": [
       "<pre style=\"white-space:pre;overflow-x:auto;line-height:normal;font-family:Menlo,'DejaVu Sans Mono',consolas,'Courier New',monospace\"><span style=\"font-style: italic\">              Preprocessor Callstack              </span>\n",
       "┏━━━━━━━┳━━━━━━━━━━━━━━━━━━━┳━━━━━━━━━━━━━━━━━━━━┓\n",
       "┃<span style=\"font-weight: bold\"> Index </span>┃<span style=\"font-weight: bold\"> Function          </span>┃<span style=\"font-weight: bold\"> Type               </span>┃\n",
       "┡━━━━━━━╇━━━━━━━━━━━━━━━━━━━╇━━━━━━━━━━━━━━━━━━━━┩\n",
       "│ 0     │<span style=\"font-weight: bold\"> make_lower_case   </span>│ &lt;class 'function'&gt; │\n",
       "├───────┼───────────────────┼────────────────────┤\n",
       "│ 1     │<span style=\"font-weight: bold\"> test_preprocessor </span>│ &lt;class 'function'&gt; │\n",
       "└───────┴───────────────────┴────────────────────┘\n",
       "</pre>\n"
      ],
      "text/plain": [
       "\u001b[3m              Preprocessor Callstack              \u001b[0m\n",
       "┏━━━━━━━┳━━━━━━━━━━━━━━━━━━━┳━━━━━━━━━━━━━━━━━━━━┓\n",
       "┃\u001b[1m \u001b[0m\u001b[1mIndex\u001b[0m\u001b[1m \u001b[0m┃\u001b[1m \u001b[0m\u001b[1mFunction         \u001b[0m\u001b[1m \u001b[0m┃\u001b[1m \u001b[0m\u001b[1mType              \u001b[0m\u001b[1m \u001b[0m┃\n",
       "┡━━━━━━━╇━━━━━━━━━━━━━━━━━━━╇━━━━━━━━━━━━━━━━━━━━┩\n",
       "│ 0     │\u001b[1m \u001b[0m\u001b[1mmake_lower_case  \u001b[0m\u001b[1m \u001b[0m│ <class 'function'> │\n",
       "├───────┼───────────────────┼────────────────────┤\n",
       "│ 1     │\u001b[1m \u001b[0m\u001b[1mtest_preprocessor\u001b[0m\u001b[1m \u001b[0m│ <class 'function'> │\n",
       "└───────┴───────────────────┴────────────────────┘\n"
      ]
     },
     "metadata": {},
     "output_type": "display_data"
    },
    {
     "name": "stdout",
     "output_type": "stream",
     "text": [
      "\n"
     ]
    }
   ],
   "source": [
    "stack.add_csv_preprocessor(test_csv_path)\n",
    "print(stack)"
   ]
  },
  {
   "cell_type": "code",
   "execution_count": 28,
   "id": "7623a1c6-8bf8-4e69-99fe-05147d730251",
   "metadata": {},
   "outputs": [],
   "source": [
    "test_arr = [[idx, f\"test{idx}\"] for idx in range(10_000)]\n",
    "\n",
    "csv_indices = np.random.randint(low=1, high=10000, size=(200,))\n",
    "\n",
    "for idx in csv_indices:\n",
    "    test_arr[idx] = [idx, \"APL\"]\n",
    "\n",
    "test_df = pd.DataFrame(\n",
    "    test_arr,\n",
    "    columns=[\"id\", \"text\"],\n",
    ")"
   ]
  },
  {
   "cell_type": "code",
   "execution_count": 29,
   "id": "706399cb-6fda-464e-ab1d-ec66c7585ff0",
   "metadata": {},
   "outputs": [
    {
     "data": {
      "text/html": [
       "<div>\n",
       "<style scoped>\n",
       "    .dataframe tbody tr th:only-of-type {\n",
       "        vertical-align: middle;\n",
       "    }\n",
       "\n",
       "    .dataframe tbody tr th {\n",
       "        vertical-align: top;\n",
       "    }\n",
       "\n",
       "    .dataframe thead th {\n",
       "        text-align: right;\n",
       "    }\n",
       "</style>\n",
       "<table border=\"1\" class=\"dataframe\">\n",
       "  <thead>\n",
       "    <tr style=\"text-align: right;\">\n",
       "      <th></th>\n",
       "      <th>id</th>\n",
       "      <th>text</th>\n",
       "    </tr>\n",
       "  </thead>\n",
       "  <tbody>\n",
       "    <tr>\n",
       "      <th>0</th>\n",
       "      <td>0</td>\n",
       "      <td>test0</td>\n",
       "    </tr>\n",
       "    <tr>\n",
       "      <th>1</th>\n",
       "      <td>1</td>\n",
       "      <td>test1</td>\n",
       "    </tr>\n",
       "    <tr>\n",
       "      <th>2</th>\n",
       "      <td>2</td>\n",
       "      <td>test2</td>\n",
       "    </tr>\n",
       "    <tr>\n",
       "      <th>3</th>\n",
       "      <td>3</td>\n",
       "      <td>test3</td>\n",
       "    </tr>\n",
       "    <tr>\n",
       "      <th>4</th>\n",
       "      <td>4</td>\n",
       "      <td>test4</td>\n",
       "    </tr>\n",
       "    <tr>\n",
       "      <th>5</th>\n",
       "      <td>5</td>\n",
       "      <td>test5</td>\n",
       "    </tr>\n",
       "    <tr>\n",
       "      <th>6</th>\n",
       "      <td>6</td>\n",
       "      <td>test6</td>\n",
       "    </tr>\n",
       "    <tr>\n",
       "      <th>7</th>\n",
       "      <td>7</td>\n",
       "      <td>test7</td>\n",
       "    </tr>\n",
       "    <tr>\n",
       "      <th>8</th>\n",
       "      <td>8</td>\n",
       "      <td>test8</td>\n",
       "    </tr>\n",
       "    <tr>\n",
       "      <th>9</th>\n",
       "      <td>9</td>\n",
       "      <td>test9</td>\n",
       "    </tr>\n",
       "  </tbody>\n",
       "</table>\n",
       "</div>"
      ],
      "text/plain": [
       "   id   text\n",
       "0   0  test0\n",
       "1   1  test1\n",
       "2   2  test2\n",
       "3   3  test3\n",
       "4   4  test4\n",
       "5   5  test5\n",
       "6   6  test6\n",
       "7   7  test7\n",
       "8   8  test8\n",
       "9   9  test9"
      ]
     },
     "execution_count": 29,
     "metadata": {},
     "output_type": "execute_result"
    }
   ],
   "source": [
    "test_df.head(10)"
   ]
  },
  {
   "cell_type": "code",
   "execution_count": 36,
   "id": "94ef4cc9-5548-4c11-ae35-f14c4b7fa1ca",
   "metadata": {},
   "outputs": [],
   "source": [
    "num_divisions = 10"
   ]
  },
  {
   "cell_type": "code",
   "execution_count": 37,
   "id": "72f624ab-7798-4de4-b460-cb5865dd0a06",
   "metadata": {
    "scrolled": true
   },
   "outputs": [
    {
     "data": {
      "image/svg+xml": [
       "<?xml version=\"1.0\" encoding=\"UTF-8\" standalone=\"no\"?>\n",
       "<!DOCTYPE svg PUBLIC \"-//W3C//DTD SVG 1.1//EN\"\n",
       " \"http://www.w3.org/Graphics/SVG/1.1/DTD/svg11.dtd\">\n",
       "<!-- Generated by graphviz version 2.50.0 (0)\n",
       " -->\n",
       "<!-- Pages: 1 -->\n",
       "<svg width=\"139pt\" height=\"44pt\"\n",
       " viewBox=\"0.00 0.00 139.00 44.00\" xmlns=\"http://www.w3.org/2000/svg\" xmlns:xlink=\"http://www.w3.org/1999/xlink\">\n",
       "<g id=\"graph0\" class=\"graph\" transform=\"scale(1 1) rotate(0) translate(4 40)\">\n",
       "<polygon fill=\"white\" stroke=\"transparent\" points=\"-4,4 -4,-40 135,-40 135,4 -4,4\"/>\n",
       "<!-- 2654756685556451417 -->\n",
       "<g id=\"node1\" class=\"node\">\n",
       "<title>2654756685556451417</title>\n",
       "<polygon fill=\"none\" stroke=\"black\" points=\"131,-36 0,-36 0,0 131,0 131,-36\"/>\n",
       "<text text-anchor=\"middle\" x=\"65.5\" y=\"-13\" font-family=\"Helvetica,sans-Serif\" font-size=\"20.00\">FromPandas</text>\n",
       "</g>\n",
       "</g>\n",
       "</svg>\n"
      ],
      "text/plain": [
       "<graphviz.graphs.Digraph at 0x2e95cf5e0>"
      ]
     },
     "execution_count": 37,
     "metadata": {},
     "output_type": "execute_result"
    }
   ],
   "source": [
    "stack(test_df, 1, True, num_divisions).visualize()"
   ]
  },
  {
   "cell_type": "code",
   "execution_count": 42,
   "id": "6f2c2e4e-83d8-4631-82e1-deecd0cb392b",
   "metadata": {},
   "outputs": [
    {
     "data": {
      "text/html": [
       "<div>\n",
       "<style scoped>\n",
       "    .dataframe tbody tr th:only-of-type {\n",
       "        vertical-align: middle;\n",
       "    }\n",
       "\n",
       "    .dataframe tbody tr th {\n",
       "        vertical-align: top;\n",
       "    }\n",
       "\n",
       "    .dataframe thead th {\n",
       "        text-align: right;\n",
       "    }\n",
       "</style>\n",
       "<table border=\"1\" class=\"dataframe\">\n",
       "  <thead>\n",
       "    <tr style=\"text-align: right;\">\n",
       "      <th></th>\n",
       "      <th>id</th>\n",
       "      <th>text</th>\n",
       "    </tr>\n",
       "  </thead>\n",
       "  <tbody>\n",
       "    <tr>\n",
       "      <th>0</th>\n",
       "      <td>0</td>\n",
       "      <td>test0</td>\n",
       "    </tr>\n",
       "    <tr>\n",
       "      <th>1</th>\n",
       "      <td>1</td>\n",
       "      <td>test1</td>\n",
       "    </tr>\n",
       "    <tr>\n",
       "      <th>2</th>\n",
       "      <td>2</td>\n",
       "      <td>test2</td>\n",
       "    </tr>\n",
       "    <tr>\n",
       "      <th>3</th>\n",
       "      <td>3</td>\n",
       "      <td>test3</td>\n",
       "    </tr>\n",
       "    <tr>\n",
       "      <th>4</th>\n",
       "      <td>4</td>\n",
       "      <td>test4</td>\n",
       "    </tr>\n",
       "    <tr>\n",
       "      <th>...</th>\n",
       "      <td>...</td>\n",
       "      <td>...</td>\n",
       "    </tr>\n",
       "    <tr>\n",
       "      <th>9995</th>\n",
       "      <td>9995</td>\n",
       "      <td>test9995</td>\n",
       "    </tr>\n",
       "    <tr>\n",
       "      <th>9996</th>\n",
       "      <td>9996</td>\n",
       "      <td>test9996</td>\n",
       "    </tr>\n",
       "    <tr>\n",
       "      <th>9997</th>\n",
       "      <td>9997</td>\n",
       "      <td>test9997</td>\n",
       "    </tr>\n",
       "    <tr>\n",
       "      <th>9998</th>\n",
       "      <td>9998</td>\n",
       "      <td>test9998</td>\n",
       "    </tr>\n",
       "    <tr>\n",
       "      <th>9999</th>\n",
       "      <td>9999</td>\n",
       "      <td>test9999</td>\n",
       "    </tr>\n",
       "  </tbody>\n",
       "</table>\n",
       "<p>10000 rows × 2 columns</p>\n",
       "</div>"
      ],
      "text/plain": [
       "        id      text\n",
       "0        0     test0\n",
       "1        1     test1\n",
       "2        2     test2\n",
       "3        3     test3\n",
       "4        4     test4\n",
       "...    ...       ...\n",
       "9995  9995  test9995\n",
       "9996  9996  test9996\n",
       "9997  9997  test9997\n",
       "9998  9998  test9998\n",
       "9999  9999  test9999\n",
       "\n",
       "[10000 rows x 2 columns]"
      ]
     },
     "execution_count": 42,
     "metadata": {},
     "output_type": "execute_result"
    }
   ],
   "source": [
    "stack(test_df, 1, True, num_divisions).compute('threads')"
   ]
  },
  {
   "cell_type": "code",
   "execution_count": null,
   "id": "7e2a202a-6ac3-46ab-b8a8-75457952979d",
   "metadata": {},
   "outputs": [],
   "source": [
    "out_df.head(100)"
   ]
  },
  {
   "cell_type": "code",
   "execution_count": null,
   "id": "cef869fb-4642-40bc-bb7b-f93273b87e59",
   "metadata": {},
   "outputs": [],
   "source": [
    "%timeit sf.preprocess(test_df, 1, False, num_divisions, False)"
   ]
  },
  {
   "cell_type": "markdown",
   "id": "44a9accd71ef9b3f",
   "metadata": {
    "collapsed": false,
    "jupyter": {
     "outputs_hidden": false
    }
   },
   "source": [
    "## Train"
   ]
  },
  {
   "cell_type": "code",
   "execution_count": null,
   "id": "96afc5a0dec523b0",
   "metadata": {
    "ExecuteTime": {
     "end_time": "2024-02-16T21:20:08.012450Z",
     "start_time": "2024-02-16T21:19:31.067443100Z"
    },
    "collapsed": false,
    "jupyter": {
     "outputs_hidden": false
    }
   },
   "outputs": [],
   "source": [
    "msg_filter.train(\n",
    "    data, \n",
    "    {\n",
    "        \"stage-one\": {\n",
    "            \"split\": 0.9,\n",
    "            \"amt\": 2000\n",
    "        },\n",
    "        \"stage-two\": {\n",
    "            \"split\": 0.9,\n",
    "            \"amt\": 1700\n",
    "        }\n",
    "    }, \n",
    "    serialize=False\n",
    ")"
   ]
  },
  {
   "cell_type": "code",
   "execution_count": null,
   "id": "ddb4edbd797cb814",
   "metadata": {
    "ExecuteTime": {
     "end_time": "2024-02-16T21:32:43.268660100Z",
     "start_time": "2024-02-16T21:32:43.247058500Z"
    },
    "collapsed": false,
    "jupyter": {
     "outputs_hidden": false
    }
   },
   "outputs": [],
   "source": [
    "row_apply = partial(msg_filter.template_miner_transform, tm=msg_filter.template_miner)"
   ]
  },
  {
   "cell_type": "code",
   "execution_count": null,
   "id": "3c6d41b181bde434",
   "metadata": {
    "ExecuteTime": {
     "end_time": "2024-02-16T21:32:48.463962900Z",
     "start_time": "2024-02-16T21:32:48.390691600Z"
    },
    "collapsed": false,
    "jupyter": {
     "outputs_hidden": false
    }
   },
   "outputs": [],
   "source": [
    "test_set = msg_filter.stage_one_test_data\n",
    "test_labels = test_set[\"labels\"]"
   ]
  },
  {
   "cell_type": "code",
   "execution_count": null,
   "id": "753887d2",
   "metadata": {},
   "outputs": [],
   "source": [
    "msg_filter.latency_trace(test_set)"
   ]
  },
  {
   "cell_type": "markdown",
   "id": "73c2cff315e2ff14",
   "metadata": {
    "collapsed": false,
    "jupyter": {
     "outputs_hidden": false
    }
   },
   "source": [
    "### Test Stage One"
   ]
  },
  {
   "cell_type": "code",
   "execution_count": null,
   "id": "3aeb70a30dff6698",
   "metadata": {
    "ExecuteTime": {
     "end_time": "2024-02-16T21:32:48.918256600Z",
     "start_time": "2024-02-16T21:32:48.869926800Z"
    },
    "collapsed": false,
    "jupyter": {
     "outputs_hidden": false
    }
   },
   "outputs": [],
   "source": [
    "msg_filter.evaluate(test_set, test_labels, \"rf\")\n",
    "msg_filter.evaluate(test_set, test_labels, \"mlp\")"
   ]
  },
  {
   "cell_type": "markdown",
   "id": "353a65ca860e4772",
   "metadata": {
    "collapsed": false,
    "jupyter": {
     "outputs_hidden": false
    }
   },
   "source": [
    "## Label Ensemble"
   ]
  },
  {
   "cell_type": "markdown",
   "id": "84f4664546fe8254",
   "metadata": {
    "collapsed": false,
    "jupyter": {
     "outputs_hidden": false
    }
   },
   "source": [
    "### Data Preparation"
   ]
  },
  {
   "cell_type": "code",
   "execution_count": null,
   "id": "c2310fb6d4da6393",
   "metadata": {
    "ExecuteTime": {
     "end_time": "2024-02-16T21:30:49.902909100Z",
     "start_time": "2024-02-16T21:30:48.157449400Z"
    },
    "collapsed": false,
    "jupyter": {
     "outputs_hidden": false
    }
   },
   "outputs": [],
   "source": [
    "test_set = msg_filter.stage_two_test_data\n",
    "test_labels = test_set[\"labels\"]\n",
    "test_set = msg_filter.applier.apply(test_set)"
   ]
  },
  {
   "cell_type": "markdown",
   "id": "da5b2ce765600435",
   "metadata": {
    "collapsed": false,
    "jupyter": {
     "outputs_hidden": false
    }
   },
   "source": [
    "### Test Ensemble"
   ]
  },
  {
   "cell_type": "code",
   "execution_count": null,
   "id": "bc13c8e0c29ded3",
   "metadata": {
    "ExecuteTime": {
     "end_time": "2024-02-16T21:20:27.214409400Z",
     "start_time": "2024-02-16T21:20:27.130228600Z"
    },
    "collapsed": false,
    "jupyter": {
     "outputs_hidden": false
    }
   },
   "outputs": [],
   "source": [
    "msg_filter.evaluate(test_set, test_labels, \"label_model\")"
   ]
  },
  {
   "cell_type": "code",
   "execution_count": null,
   "id": "4162873105f326a2",
   "metadata": {
    "ExecuteTime": {
     "end_time": "2024-02-16T21:20:30.772624500Z",
     "start_time": "2024-02-16T21:20:30.710850400Z"
    },
    "collapsed": false,
    "jupyter": {
     "outputs_hidden": false
    }
   },
   "outputs": [],
   "source": [
    "ds = data[:5]\n",
    "msg_filter.predict(ds)"
   ]
  },
  {
   "cell_type": "code",
   "execution_count": null,
   "id": "b008a071b0f0fc1e",
   "metadata": {
    "ExecuteTime": {
     "end_time": "2024-02-16T21:33:13.207063700Z",
     "start_time": "2024-02-16T21:33:13.187442800Z"
    },
    "collapsed": false,
    "jupyter": {
     "outputs_hidden": false
    }
   },
   "outputs": [],
   "source": [
    "@labeling_function()\n",
    "def lf_confirmation(in_ds: pd.Series) -> int:\n",
    "    msg = in_ds[\"Message\"]\n",
    "    msg = msg.lower()\n",
    "    if \"wilco\" in msg or \"affirm\" in msg or \"ok\" in msg:\n",
    "        return 2\n",
    "    return 0"
   ]
  },
  {
   "cell_type": "code",
   "execution_count": null,
   "id": "8676b28528be1320",
   "metadata": {
    "ExecuteTime": {
     "end_time": "2024-02-16T21:33:14.001679800Z",
     "start_time": "2024-02-16T21:33:13.981145300Z"
    },
    "collapsed": false,
    "jupyter": {
     "outputs_hidden": false
    }
   },
   "outputs": [],
   "source": [
    "msg_filter.register_new_labeling_fn([lf_confirmation])"
   ]
  },
  {
   "cell_type": "code",
   "execution_count": null,
   "id": "1aa67d05baa915f6",
   "metadata": {
    "ExecuteTime": {
     "end_time": "2024-02-16T21:33:14.826037400Z",
     "start_time": "2024-02-16T21:33:14.808172800Z"
    },
    "collapsed": false,
    "jupyter": {
     "outputs_hidden": false
    }
   },
   "outputs": [],
   "source": [
    "msg_filter.labeling_functions"
   ]
  },
  {
   "cell_type": "code",
   "execution_count": null,
   "id": "0b24dbcc",
   "metadata": {},
   "outputs": [],
   "source": [
    "msg_filter.train(\n",
    "    data, \n",
    "    {\n",
    "        \"stage-one\": {\n",
    "            \"split\": 0.9,\n",
    "            \"amt\": 2000\n",
    "        },\n",
    "        \"stage-two\": {\n",
    "            \"split\": 0.9,\n",
    "            \"amt\": 1700\n",
    "        }\n",
    "    }, \n",
    "    serialize=False\n",
    ")"
   ]
  },
  {
   "cell_type": "code",
   "execution_count": null,
   "id": "4d6f27e1f6c2dc9b",
   "metadata": {
    "ExecuteTime": {
     "end_time": "2024-02-16T21:34:17.741763400Z",
     "start_time": "2024-02-16T21:34:16.632914500Z"
    },
    "collapsed": false,
    "jupyter": {
     "outputs_hidden": false
    }
   },
   "outputs": [],
   "source": [
    "test_set = msg_filter.stage_two_test_data\n",
    "test_labels = test_set[\"labels\"]\n",
    "test_set = msg_filter.applier.apply(test_set)\n",
    "msg_filter.evaluate(test_set, test_labels, \"label_model\")"
   ]
  },
  {
   "cell_type": "code",
   "execution_count": 86,
   "id": "cad6df3f",
   "metadata": {},
   "outputs": [],
   "source": [
    "def test_function(ds: pd.Series, i: int) -> pd.Series:\n",
    "    print(locals()['ds'])"
   ]
  },
  {
   "cell_type": "code",
   "execution_count": 87,
   "id": "4e8cc0ad-eb17-435e-a428-ba310c71885d",
   "metadata": {},
   "outputs": [
    {
     "name": "stdout",
     "output_type": "stream",
     "text": [
      "0    0\n",
      "1    0\n",
      "dtype: int64\n"
     ]
    }
   ],
   "source": [
    "test_function(pd.Series([0, 0,]), 0)"
   ]
  },
  {
   "cell_type": "code",
   "execution_count": 58,
   "id": "3fe1583a-5c7e-477a-9c78-0ee7953192dd",
   "metadata": {},
   "outputs": [],
   "source": [
    "import inspect"
   ]
  },
  {
   "cell_type": "code",
   "execution_count": 73,
   "id": "ace6e8ff-4bea-4bf3-b1fe-36a5f9f1a371",
   "metadata": {},
   "outputs": [
    {
     "data": {
      "text/plain": [
       "['__class__',\n",
       " '__delattr__',\n",
       " '__dir__',\n",
       " '__doc__',\n",
       " '__eq__',\n",
       " '__format__',\n",
       " '__ge__',\n",
       " '__getattribute__',\n",
       " '__gt__',\n",
       " '__hash__',\n",
       " '__init__',\n",
       " '__init_subclass__',\n",
       " '__le__',\n",
       " '__lt__',\n",
       " '__ne__',\n",
       " '__new__',\n",
       " '__reduce__',\n",
       " '__reduce_ex__',\n",
       " '__repr__',\n",
       " '__setattr__',\n",
       " '__sizeof__',\n",
       " '__str__',\n",
       " '__subclasshook__',\n",
       " 'co_argcount',\n",
       " 'co_cellvars',\n",
       " 'co_code',\n",
       " 'co_consts',\n",
       " 'co_filename',\n",
       " 'co_firstlineno',\n",
       " 'co_flags',\n",
       " 'co_freevars',\n",
       " 'co_kwonlyargcount',\n",
       " 'co_lines',\n",
       " 'co_linetable',\n",
       " 'co_lnotab',\n",
       " 'co_name',\n",
       " 'co_names',\n",
       " 'co_nlocals',\n",
       " 'co_posonlyargcount',\n",
       " 'co_stacksize',\n",
       " 'co_varnames',\n",
       " 'replace']"
      ]
     },
     "execution_count": 73,
     "metadata": {},
     "output_type": "execute_result"
    }
   ],
   "source": [
    "dir(test_function.__code__)"
   ]
  },
  {
   "cell_type": "code",
   "execution_count": 62,
   "id": "a37c91ea-771c-4c65-9a17-1e558d39950b",
   "metadata": {},
   "outputs": [
    {
     "data": {
      "text/plain": [
       "Arguments(args=['ds', 'int'], varargs=None, varkw=None)"
      ]
     },
     "execution_count": 62,
     "metadata": {},
     "output_type": "execute_result"
    }
   ],
   "source": [
    "inspect.getargs(test_function.__code__.co_code)"
   ]
  },
  {
   "cell_type": "code",
   "execution_count": 82,
   "id": "6cbac97e-4fdb-4e9b-9fd5-8667f1729bad",
   "metadata": {},
   "outputs": [
    {
     "data": {
      "text/plain": [
       "'\\x12\\x01'"
      ]
     },
     "execution_count": 82,
     "metadata": {},
     "output_type": "execute_result"
    }
   ],
   "source": [
    "test_function.__code__.co_linetable.decode('utf-8')"
   ]
  },
  {
   "cell_type": "code",
   "execution_count": 65,
   "id": "da555d01-9f0c-4f83-8377-09bf3a29efe4",
   "metadata": {},
   "outputs": [
    {
     "data": {
      "text/plain": [
       "'ds'"
      ]
     },
     "execution_count": 65,
     "metadata": {},
     "output_type": "execute_result"
    }
   ],
   "source": [
    "test_function.__code__.co_varnames[0]"
   ]
  },
  {
   "cell_type": "code",
   "execution_count": 66,
   "id": "933beb7d-9501-497b-918e-6ff9f87a832a",
   "metadata": {},
   "outputs": [
    {
     "name": "stdout",
     "output_type": "stream",
     "text": [
      "ds\n",
      "int\n"
     ]
    }
   ],
   "source": [
    "for v in test_function.__code__.co_varnames:\n",
    "    print(v)"
   ]
  },
  {
   "cell_type": "code",
   "execution_count": 69,
   "id": "7f7ea209-7520-4b8b-9f46-80a5e2d67df1",
   "metadata": {},
   "outputs": [
    {
     "ename": "AttributeError",
     "evalue": "'code' object has no attribute 'f_code'",
     "output_type": "error",
     "traceback": [
      "\u001b[0;31m---------------------------------------------------------------------------\u001b[0m",
      "\u001b[0;31mAttributeError\u001b[0m                            Traceback (most recent call last)",
      "Cell \u001b[0;32mIn[69], line 1\u001b[0m\n\u001b[0;32m----> 1\u001b[0m \u001b[43minspect\u001b[49m\u001b[38;5;241;43m.\u001b[39;49m\u001b[43mgetargvalues\u001b[49m\u001b[43m(\u001b[49m\u001b[43mtest_function\u001b[49m\u001b[38;5;241;43m.\u001b[39;49m\u001b[38;5;18;43m__code__\u001b[39;49m\u001b[43m)\u001b[49m\n",
      "File \u001b[0;32m~/miniconda3/envs/topic-model/lib/python3.10/inspect.py:1346\u001b[0m, in \u001b[0;36mgetargvalues\u001b[0;34m(frame)\u001b[0m\n\u001b[1;32m   1339\u001b[0m \u001b[38;5;28;01mdef\u001b[39;00m \u001b[38;5;21mgetargvalues\u001b[39m(frame):\n\u001b[1;32m   1340\u001b[0m \u001b[38;5;250m    \u001b[39m\u001b[38;5;124;03m\"\"\"Get information about arguments passed into a particular frame.\u001b[39;00m\n\u001b[1;32m   1341\u001b[0m \n\u001b[1;32m   1342\u001b[0m \u001b[38;5;124;03m    A tuple of four things is returned: (args, varargs, varkw, locals).\u001b[39;00m\n\u001b[1;32m   1343\u001b[0m \u001b[38;5;124;03m    'args' is a list of the argument names.\u001b[39;00m\n\u001b[1;32m   1344\u001b[0m \u001b[38;5;124;03m    'varargs' and 'varkw' are the names of the * and ** arguments or None.\u001b[39;00m\n\u001b[1;32m   1345\u001b[0m \u001b[38;5;124;03m    'locals' is the locals dictionary of the given frame.\"\"\"\u001b[39;00m\n\u001b[0;32m-> 1346\u001b[0m     args, varargs, varkw \u001b[38;5;241m=\u001b[39m getargs(\u001b[43mframe\u001b[49m\u001b[38;5;241;43m.\u001b[39;49m\u001b[43mf_code\u001b[49m)\n\u001b[1;32m   1347\u001b[0m     \u001b[38;5;28;01mreturn\u001b[39;00m ArgInfo(args, varargs, varkw, frame\u001b[38;5;241m.\u001b[39mf_locals)\n",
      "\u001b[0;31mAttributeError\u001b[0m: 'code' object has no attribute 'f_code'"
     ]
    }
   ],
   "source": [
    "inspect.getargvalues(test_function.__code__)"
   ]
  },
  {
   "cell_type": "code",
   "execution_count": 70,
   "id": "bddac05b-40c1-405d-90d1-474b4dacdc34",
   "metadata": {},
   "outputs": [
    {
     "ename": "AttributeError",
     "evalue": "'function' object has no attribute 'ds'",
     "output_type": "error",
     "traceback": [
      "\u001b[0;31m---------------------------------------------------------------------------\u001b[0m",
      "\u001b[0;31mAttributeError\u001b[0m                            Traceback (most recent call last)",
      "Cell \u001b[0;32mIn[70], line 1\u001b[0m\n\u001b[0;32m----> 1\u001b[0m \u001b[38;5;28;43mgetattr\u001b[39;49m\u001b[43m(\u001b[49m\u001b[43mtest_function\u001b[49m\u001b[43m,\u001b[49m\u001b[43m \u001b[49m\u001b[38;5;124;43m'\u001b[39;49m\u001b[38;5;124;43mds\u001b[39;49m\u001b[38;5;124;43m'\u001b[39;49m\u001b[43m)\u001b[49m\n",
      "\u001b[0;31mAttributeError\u001b[0m: 'function' object has no attribute 'ds'"
     ]
    }
   ],
   "source": [
    "getattr(test_function, 'ds')"
   ]
  },
  {
   "cell_type": "code",
   "execution_count": 72,
   "id": "7bbd1336-2b3b-41b4-bbfc-f50566fc8f15",
   "metadata": {},
   "outputs": [
    {
     "data": {
      "text/plain": [
       "<function __main__.test_function(ds: pandas.core.series.Series, int) -> pandas.core.series.Series>"
      ]
     },
     "execution_count": 72,
     "metadata": {},
     "output_type": "execute_result"
    }
   ],
   "source": [
    "globals()['test_function']"
   ]
  },
  {
   "cell_type": "code",
   "execution_count": 83,
   "id": "7776b247-2368-4e10-a7b8-80259ea72ded",
   "metadata": {},
   "outputs": [],
   "source": [
    "from typing import get_type_hints"
   ]
  },
  {
   "cell_type": "code",
   "execution_count": 88,
   "id": "daad0e1c-db7b-4616-ba6b-8805a0f61961",
   "metadata": {},
   "outputs": [
    {
     "data": {
      "text/plain": [
       "{'ds': pandas.core.series.Series,\n",
       " 'i': int,\n",
       " 'return': pandas.core.series.Series}"
      ]
     },
     "execution_count": 88,
     "metadata": {},
     "output_type": "execute_result"
    }
   ],
   "source": [
    "get_type_hints(test_function)"
   ]
  },
  {
   "cell_type": "code",
   "execution_count": 89,
   "id": "2213dcb3-5427-4d7c-bee3-039642981b62",
   "metadata": {},
   "outputs": [],
   "source": [
    " test_list = []"
   ]
  },
  {
   "cell_type": "code",
   "execution_count": 90,
   "id": "0a9302e2-f64b-484c-b049-06f4f4c4ebdf",
   "metadata": {},
   "outputs": [
    {
     "data": {
      "text/plain": [
       "['a']"
      ]
     },
     "execution_count": 90,
     "metadata": {},
     "output_type": "execute_result"
    }
   ],
   "source": [
    "test_list.insert(0, \"a\")\n",
    "test_list"
   ]
  },
  {
   "cell_type": "code",
   "execution_count": 91,
   "id": "df80ccb4-0d18-4e85-ac4f-acd4b6f2c0c9",
   "metadata": {},
   "outputs": [
    {
     "data": {
      "text/plain": [
       "['b', 'a']"
      ]
     },
     "execution_count": 91,
     "metadata": {},
     "output_type": "execute_result"
    }
   ],
   "source": [
    "test_list.insert(0, \"b\")\n",
    "test_list"
   ]
  },
  {
   "cell_type": "code",
   "execution_count": 92,
   "id": "3f055db8-d1f5-4ec1-9573-20a2b5e37a62",
   "metadata": {},
   "outputs": [
    {
     "data": {
      "text/plain": [
       "['b', 'c', 'a']"
      ]
     },
     "execution_count": 92,
     "metadata": {},
     "output_type": "execute_result"
    }
   ],
   "source": [
    "test_list.insert(1, \"c\")\n",
    "test_list"
   ]
  },
  {
   "cell_type": "code",
   "execution_count": 94,
   "id": "2c1958be-facd-455f-ba57-eded46475d52",
   "metadata": {},
   "outputs": [
    {
     "data": {
      "text/plain": [
       "['b', 'c', 'c', 'a', 'c']"
      ]
     },
     "execution_count": 94,
     "metadata": {},
     "output_type": "execute_result"
    }
   ],
   "source": [
    "test_list.insert(10000, \"c\")\n",
    "test_list"
   ]
  },
  {
   "cell_type": "code",
   "execution_count": 1,
   "id": "fc29d688-c827-474d-859c-bd7a5b86e3fa",
   "metadata": {},
   "outputs": [
    {
     "data": {
      "text/plain": [
       "18"
      ]
     },
     "execution_count": 1,
     "metadata": {},
     "output_type": "execute_result"
    }
   ],
   "source": [
    "string_test = \"I have <:*:> <:*:>\"\n",
    "len(string_test)"
   ]
  },
  {
   "cell_type": "code",
   "execution_count": null,
   "id": "fd85f5ae",
   "metadata": {},
   "outputs": [],
   "source": []
  }
 ],
 "metadata": {
  "kernelspec": {
   "display_name": "Python 3 (ipykernel)",
   "language": "python",
   "name": "python3"
  },
  "language_info": {
   "codemirror_mode": {
    "name": "ipython",
    "version": 3
   },
   "file_extension": ".py",
   "mimetype": "text/x-python",
   "name": "python",
   "nbconvert_exporter": "python",
   "pygments_lexer": "ipython3",
   "version": "3.8.15"
  }
 },
 "nbformat": 4,
 "nbformat_minor": 5
}
